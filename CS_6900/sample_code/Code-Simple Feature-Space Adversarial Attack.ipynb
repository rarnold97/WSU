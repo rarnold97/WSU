{
 "cells": [
  {
   "cell_type": "markdown",
   "id": "1ae721ee",
   "metadata": {},
   "source": [
    "# Load iris dataset from scikit-learn "
   ]
  },
  {
   "cell_type": "code",
   "execution_count": 1,
   "id": "25b47471",
   "metadata": {},
   "outputs": [],
   "source": [
    "import numpy as np\n",
    "from sklearn import datasets\n",
    "from sklearn.model_selection import train_test_split\n",
    "from sklearn.linear_model import LogisticRegression\n",
    "from sklearn.metrics import accuracy_score, f1_score\n",
    "\n",
    "iris = datasets.load_iris()"
   ]
  },
  {
   "cell_type": "code",
   "execution_count": 2,
   "id": "31221457",
   "metadata": {},
   "outputs": [
    {
     "name": "stdout",
     "output_type": "stream",
     "text": [
      "['setosa' 'versicolor' 'virginica']\n"
     ]
    }
   ],
   "source": [
    "print(iris.target_names)"
   ]
  },
  {
   "cell_type": "code",
   "execution_count": 3,
   "id": "e4e6ee99",
   "metadata": {},
   "outputs": [
    {
     "name": "stdout",
     "output_type": "stream",
     "text": [
      "['sepal length (cm)', 'sepal width (cm)', 'petal length (cm)', 'petal width (cm)']\n"
     ]
    }
   ],
   "source": [
    "print(iris.feature_names)"
   ]
  },
  {
   "cell_type": "code",
   "execution_count": 4,
   "id": "0f24ac63",
   "metadata": {},
   "outputs": [
    {
     "data": {
      "text/plain": [
       "array([[5.1, 3.5, 1.4, 0.2],\n",
       "       [4.9, 3. , 1.4, 0.2],\n",
       "       [4.7, 3.2, 1.3, 0.2],\n",
       "       [4.6, 3.1, 1.5, 0.2],\n",
       "       [5. , 3.6, 1.4, 0.2],\n",
       "       [5.4, 3.9, 1.7, 0.4],\n",
       "       [4.6, 3.4, 1.4, 0.3],\n",
       "       [5. , 3.4, 1.5, 0.2],\n",
       "       [4.4, 2.9, 1.4, 0.2],\n",
       "       [4.9, 3.1, 1.5, 0.1],\n",
       "       [5.4, 3.7, 1.5, 0.2],\n",
       "       [4.8, 3.4, 1.6, 0.2],\n",
       "       [4.8, 3. , 1.4, 0.1],\n",
       "       [4.3, 3. , 1.1, 0.1],\n",
       "       [5.8, 4. , 1.2, 0.2],\n",
       "       [5.7, 4.4, 1.5, 0.4],\n",
       "       [5.4, 3.9, 1.3, 0.4],\n",
       "       [5.1, 3.5, 1.4, 0.3],\n",
       "       [5.7, 3.8, 1.7, 0.3],\n",
       "       [5.1, 3.8, 1.5, 0.3],\n",
       "       [5.4, 3.4, 1.7, 0.2],\n",
       "       [5.1, 3.7, 1.5, 0.4],\n",
       "       [4.6, 3.6, 1. , 0.2],\n",
       "       [5.1, 3.3, 1.7, 0.5],\n",
       "       [4.8, 3.4, 1.9, 0.2],\n",
       "       [5. , 3. , 1.6, 0.2],\n",
       "       [5. , 3.4, 1.6, 0.4],\n",
       "       [5.2, 3.5, 1.5, 0.2],\n",
       "       [5.2, 3.4, 1.4, 0.2],\n",
       "       [4.7, 3.2, 1.6, 0.2],\n",
       "       [4.8, 3.1, 1.6, 0.2],\n",
       "       [5.4, 3.4, 1.5, 0.4],\n",
       "       [5.2, 4.1, 1.5, 0.1],\n",
       "       [5.5, 4.2, 1.4, 0.2],\n",
       "       [4.9, 3.1, 1.5, 0.2],\n",
       "       [5. , 3.2, 1.2, 0.2],\n",
       "       [5.5, 3.5, 1.3, 0.2],\n",
       "       [4.9, 3.6, 1.4, 0.1],\n",
       "       [4.4, 3. , 1.3, 0.2],\n",
       "       [5.1, 3.4, 1.5, 0.2],\n",
       "       [5. , 3.5, 1.3, 0.3],\n",
       "       [4.5, 2.3, 1.3, 0.3],\n",
       "       [4.4, 3.2, 1.3, 0.2],\n",
       "       [5. , 3.5, 1.6, 0.6],\n",
       "       [5.1, 3.8, 1.9, 0.4],\n",
       "       [4.8, 3. , 1.4, 0.3],\n",
       "       [5.1, 3.8, 1.6, 0.2],\n",
       "       [4.6, 3.2, 1.4, 0.2],\n",
       "       [5.3, 3.7, 1.5, 0.2],\n",
       "       [5. , 3.3, 1.4, 0.2],\n",
       "       [7. , 3.2, 4.7, 1.4],\n",
       "       [6.4, 3.2, 4.5, 1.5],\n",
       "       [6.9, 3.1, 4.9, 1.5],\n",
       "       [5.5, 2.3, 4. , 1.3],\n",
       "       [6.5, 2.8, 4.6, 1.5],\n",
       "       [5.7, 2.8, 4.5, 1.3],\n",
       "       [6.3, 3.3, 4.7, 1.6],\n",
       "       [4.9, 2.4, 3.3, 1. ],\n",
       "       [6.6, 2.9, 4.6, 1.3],\n",
       "       [5.2, 2.7, 3.9, 1.4],\n",
       "       [5. , 2. , 3.5, 1. ],\n",
       "       [5.9, 3. , 4.2, 1.5],\n",
       "       [6. , 2.2, 4. , 1. ],\n",
       "       [6.1, 2.9, 4.7, 1.4],\n",
       "       [5.6, 2.9, 3.6, 1.3],\n",
       "       [6.7, 3.1, 4.4, 1.4],\n",
       "       [5.6, 3. , 4.5, 1.5],\n",
       "       [5.8, 2.7, 4.1, 1. ],\n",
       "       [6.2, 2.2, 4.5, 1.5],\n",
       "       [5.6, 2.5, 3.9, 1.1],\n",
       "       [5.9, 3.2, 4.8, 1.8],\n",
       "       [6.1, 2.8, 4. , 1.3],\n",
       "       [6.3, 2.5, 4.9, 1.5],\n",
       "       [6.1, 2.8, 4.7, 1.2],\n",
       "       [6.4, 2.9, 4.3, 1.3],\n",
       "       [6.6, 3. , 4.4, 1.4],\n",
       "       [6.8, 2.8, 4.8, 1.4],\n",
       "       [6.7, 3. , 5. , 1.7],\n",
       "       [6. , 2.9, 4.5, 1.5],\n",
       "       [5.7, 2.6, 3.5, 1. ],\n",
       "       [5.5, 2.4, 3.8, 1.1],\n",
       "       [5.5, 2.4, 3.7, 1. ],\n",
       "       [5.8, 2.7, 3.9, 1.2],\n",
       "       [6. , 2.7, 5.1, 1.6],\n",
       "       [5.4, 3. , 4.5, 1.5],\n",
       "       [6. , 3.4, 4.5, 1.6],\n",
       "       [6.7, 3.1, 4.7, 1.5],\n",
       "       [6.3, 2.3, 4.4, 1.3],\n",
       "       [5.6, 3. , 4.1, 1.3],\n",
       "       [5.5, 2.5, 4. , 1.3],\n",
       "       [5.5, 2.6, 4.4, 1.2],\n",
       "       [6.1, 3. , 4.6, 1.4],\n",
       "       [5.8, 2.6, 4. , 1.2],\n",
       "       [5. , 2.3, 3.3, 1. ],\n",
       "       [5.6, 2.7, 4.2, 1.3],\n",
       "       [5.7, 3. , 4.2, 1.2],\n",
       "       [5.7, 2.9, 4.2, 1.3],\n",
       "       [6.2, 2.9, 4.3, 1.3],\n",
       "       [5.1, 2.5, 3. , 1.1],\n",
       "       [5.7, 2.8, 4.1, 1.3],\n",
       "       [6.3, 3.3, 6. , 2.5],\n",
       "       [5.8, 2.7, 5.1, 1.9],\n",
       "       [7.1, 3. , 5.9, 2.1],\n",
       "       [6.3, 2.9, 5.6, 1.8],\n",
       "       [6.5, 3. , 5.8, 2.2],\n",
       "       [7.6, 3. , 6.6, 2.1],\n",
       "       [4.9, 2.5, 4.5, 1.7],\n",
       "       [7.3, 2.9, 6.3, 1.8],\n",
       "       [6.7, 2.5, 5.8, 1.8],\n",
       "       [7.2, 3.6, 6.1, 2.5],\n",
       "       [6.5, 3.2, 5.1, 2. ],\n",
       "       [6.4, 2.7, 5.3, 1.9],\n",
       "       [6.8, 3. , 5.5, 2.1],\n",
       "       [5.7, 2.5, 5. , 2. ],\n",
       "       [5.8, 2.8, 5.1, 2.4],\n",
       "       [6.4, 3.2, 5.3, 2.3],\n",
       "       [6.5, 3. , 5.5, 1.8],\n",
       "       [7.7, 3.8, 6.7, 2.2],\n",
       "       [7.7, 2.6, 6.9, 2.3],\n",
       "       [6. , 2.2, 5. , 1.5],\n",
       "       [6.9, 3.2, 5.7, 2.3],\n",
       "       [5.6, 2.8, 4.9, 2. ],\n",
       "       [7.7, 2.8, 6.7, 2. ],\n",
       "       [6.3, 2.7, 4.9, 1.8],\n",
       "       [6.7, 3.3, 5.7, 2.1],\n",
       "       [7.2, 3.2, 6. , 1.8],\n",
       "       [6.2, 2.8, 4.8, 1.8],\n",
       "       [6.1, 3. , 4.9, 1.8],\n",
       "       [6.4, 2.8, 5.6, 2.1],\n",
       "       [7.2, 3. , 5.8, 1.6],\n",
       "       [7.4, 2.8, 6.1, 1.9],\n",
       "       [7.9, 3.8, 6.4, 2. ],\n",
       "       [6.4, 2.8, 5.6, 2.2],\n",
       "       [6.3, 2.8, 5.1, 1.5],\n",
       "       [6.1, 2.6, 5.6, 1.4],\n",
       "       [7.7, 3. , 6.1, 2.3],\n",
       "       [6.3, 3.4, 5.6, 2.4],\n",
       "       [6.4, 3.1, 5.5, 1.8],\n",
       "       [6. , 3. , 4.8, 1.8],\n",
       "       [6.9, 3.1, 5.4, 2.1],\n",
       "       [6.7, 3.1, 5.6, 2.4],\n",
       "       [6.9, 3.1, 5.1, 2.3],\n",
       "       [5.8, 2.7, 5.1, 1.9],\n",
       "       [6.8, 3.2, 5.9, 2.3],\n",
       "       [6.7, 3.3, 5.7, 2.5],\n",
       "       [6.7, 3. , 5.2, 2.3],\n",
       "       [6.3, 2.5, 5. , 1.9],\n",
       "       [6.5, 3. , 5.2, 2. ],\n",
       "       [6.2, 3.4, 5.4, 2.3],\n",
       "       [5.9, 3. , 5.1, 1.8]])"
      ]
     },
     "execution_count": 4,
     "metadata": {},
     "output_type": "execute_result"
    }
   ],
   "source": [
    "iris[\"data\"]"
   ]
  },
  {
   "cell_type": "code",
   "execution_count": 5,
   "id": "435a2e85",
   "metadata": {},
   "outputs": [
    {
     "data": {
      "text/plain": [
       "array([0, 0, 0, 0, 0, 0, 0, 0, 0, 0, 0, 0, 0, 0, 0, 0, 0, 0, 0, 0, 0, 0,\n",
       "       0, 0, 0, 0, 0, 0, 0, 0, 0, 0, 0, 0, 0, 0, 0, 0, 0, 0, 0, 0, 0, 0,\n",
       "       0, 0, 0, 0, 0, 0, 1, 1, 1, 1, 1, 1, 1, 1, 1, 1, 1, 1, 1, 1, 1, 1,\n",
       "       1, 1, 1, 1, 1, 1, 1, 1, 1, 1, 1, 1, 1, 1, 1, 1, 1, 1, 1, 1, 1, 1,\n",
       "       1, 1, 1, 1, 1, 1, 1, 1, 1, 1, 1, 1, 2, 2, 2, 2, 2, 2, 2, 2, 2, 2,\n",
       "       2, 2, 2, 2, 2, 2, 2, 2, 2, 2, 2, 2, 2, 2, 2, 2, 2, 2, 2, 2, 2, 2,\n",
       "       2, 2, 2, 2, 2, 2, 2, 2, 2, 2, 2, 2, 2, 2, 2, 2, 2, 2])"
      ]
     },
     "execution_count": 5,
     "metadata": {},
     "output_type": "execute_result"
    }
   ],
   "source": [
    "iris[\"target\"]"
   ]
  },
  {
   "cell_type": "markdown",
   "id": "52291d4a",
   "metadata": {},
   "source": [
    "# Train a softmax regression model for multi-class classification"
   ]
  },
  {
   "cell_type": "markdown",
   "id": "d47232c7",
   "metadata": {},
   "source": [
    "#### Perform multi-class classification: setosa label (0 - setosa), versicolor label (1 – versicolor), and virginica label (2 – versicolor)\n",
    "\n",
    "0: setosa, 1: versicolor, and 2: versicolor"
   ]
  },
  {
   "cell_type": "code",
   "execution_count": 6,
   "id": "13849367",
   "metadata": {},
   "outputs": [],
   "source": [
    "X = iris[\"data\"]  # use four features: sepal length, sepal width, petal length, petal width\n",
    "y = iris[\"target\"]"
   ]
  },
  {
   "cell_type": "markdown",
   "id": "df5850af",
   "metadata": {},
   "source": [
    "#### Split the data into training set (for model training) and test set (for model evaluation)"
   ]
  },
  {
   "cell_type": "code",
   "execution_count": 7,
   "id": "63895da0",
   "metadata": {},
   "outputs": [],
   "source": [
    "X_train, X_test, y_train, y_test = train_test_split(X, y, test_size=0.25, random_state=0)"
   ]
  },
  {
   "cell_type": "markdown",
   "id": "5d63ac4c",
   "metadata": {},
   "source": [
    "#### Use scikit learn library to train a softmax regression model"
   ]
  },
  {
   "cell_type": "code",
   "execution_count": 8,
   "id": "7fad2e59",
   "metadata": {},
   "outputs": [
    {
     "data": {
      "text/plain": [
       "LogisticRegression(multi_class='multinomial', random_state=42,\n",
       "                   solver='newton-cg')"
      ]
     },
     "execution_count": 8,
     "metadata": {},
     "output_type": "execute_result"
    }
   ],
   "source": [
    "softmax_reg = LogisticRegression(multi_class=\"multinomial\",solver=\"newton-cg\", random_state=42)\n",
    "softmax_reg.fit(X_train, y_train)"
   ]
  },
  {
   "cell_type": "markdown",
   "id": "4ab6f8cd",
   "metadata": {},
   "source": [
    "#### Weights of the trained model"
   ]
  },
  {
   "cell_type": "code",
   "execution_count": 9,
   "id": "845bad03",
   "metadata": {},
   "outputs": [
    {
     "name": "stdout",
     "output_type": "stream",
     "text": [
      "[[-0.4144675   0.84949779 -2.33262956 -0.98888065]\n",
      " [ 0.52085098 -0.29399285 -0.21690471 -0.7137301 ]\n",
      " [-0.10638348 -0.55550494  2.54953427  1.70261075]]\n"
     ]
    }
   ],
   "source": [
    "weights = softmax_reg.coef_\n",
    "\n",
    "print(weights)"
   ]
  },
  {
   "cell_type": "markdown",
   "id": "ab1d304d",
   "metadata": {},
   "source": [
    "# Implement a simple feature-space adversarial attack"
   ]
  },
  {
   "cell_type": "markdown",
   "id": "ec9557e7",
   "metadata": {},
   "source": [
    "#### An original input to perturb"
   ]
  },
  {
   "cell_type": "code",
   "execution_count": 10,
   "id": "af1f81bb",
   "metadata": {},
   "outputs": [
    {
     "name": "stdout",
     "output_type": "stream",
     "text": [
      "Original label:  1 versicolor\n",
      "Target label:  2 virginica\n"
     ]
    }
   ],
   "source": [
    "original_input = np.array([6.0, 2.0, 4.5, 1.7])\n",
    "\n",
    "original_label = softmax_reg.predict([original_input])\n",
    "\n",
    "#Here, we perform targeted adversarial attack: the target is 2 - Virginica\n",
    "target_label = 2\n",
    "\n",
    "print(\"Original label: \", original_label[0], iris.target_names[original_label[0]])\n",
    "print(\"Target label: \", target_label, iris.target_names[target_label])"
   ]
  },
  {
   "cell_type": "markdown",
   "id": "928c8a47",
   "metadata": {},
   "source": [
    "#### Search for a good instance for guidance\n",
    "\n",
    "Find those instances closest to decision boundary"
   ]
  },
  {
   "cell_type": "code",
   "execution_count": 11,
   "id": "fb6463a5",
   "metadata": {
    "scrolled": false
   },
   "outputs": [],
   "source": [
    "#All the target instances\n",
    "target_instances = [X_train[i] for i in range(len(y_train)) if softmax_reg.predict(X_train)[i] == target_label]\n",
    "\n",
    "#The probabilities to predict the original label for all the target instances\n",
    "target_prob = softmax_reg.predict_proba(target_instances)[:,original_label[0]]\n",
    "\n",
    "#The indices of top k target instances that are close to decision boundary \n",
    "k = 5\n",
    "top_indices = np.argpartition(target_prob, -k)[::-1][:k]\n",
    "# print(target_prob)\n",
    "#softmax_reg.predict_proba(target_instances)"
   ]
  },
  {
   "cell_type": "markdown",
   "id": "de67c4bf",
   "metadata": {},
   "source": [
    "Find those instances closest to the original input"
   ]
  },
  {
   "cell_type": "code",
   "execution_count": 12,
   "id": "3eade1ea",
   "metadata": {
    "scrolled": true
   },
   "outputs": [],
   "source": [
    "from sklearn.metrics.pairwise import manhattan_distances\n",
    "\n",
    "#Use manhattan distance (L1 distance) to search for nearest neighbors\n",
    "distances = manhattan_distances([original_input], target_instances)\n",
    "\n",
    "#Find the indices of nearest neighbors from the nearest to the farthest \n",
    "nearest_neighbors_indices = np.argsort(distances[0])"
   ]
  },
  {
   "cell_type": "markdown",
   "id": "7b58b4f5",
   "metadata": {},
   "source": [
    "Find a good instance for guidance"
   ]
  },
  {
   "cell_type": "code",
   "execution_count": 13,
   "id": "4d07b458",
   "metadata": {},
   "outputs": [
    {
     "name": "stdout",
     "output_type": "stream",
     "text": [
      "The found good instance is:  [6.  3.  4.8 1.8]\n"
     ]
    }
   ],
   "source": [
    "#The good instance is initialized as the nearest neighbor\n",
    "good_instance = target_instances[nearest_neighbors_indices[0]]\n",
    "\n",
    "#A good instance is one of the input's nearest neighbors that is among top k instances close to decision boundary\n",
    "for i in nearest_neighbors_indices:\n",
    "    if i in top_indices:\n",
    "        good_instance = target_instances[i]\n",
    "        break\n",
    "\n",
    "# print(top_indices)\n",
    "# print(nearest_neighbors_indices)\n",
    "print(\"The found good instance is: \", good_instance)"
   ]
  },
  {
   "cell_type": "markdown",
   "id": "1a5e8517",
   "metadata": {},
   "source": [
    "#### Find a feature to perturb\n",
    "\n",
    "Once we find an instance for guidance, we can perturb all features based on the feature space of this instance, or we can perturb individual features using genetic search algorithm, which may be very computationally expensive. Here, we design to use greedy search to perturb individual feature from the most important one to the least important one"
   ]
  },
  {
   "cell_type": "code",
   "execution_count": 14,
   "id": "038a4ace",
   "metadata": {},
   "outputs": [
    {
     "name": "stdout",
     "output_type": "stream",
     "text": [
      "Features ordered by importance:  ['petal length (cm)', 'petal width (cm)', 'sepal length (cm)', 'sepal width (cm)']\n"
     ]
    }
   ],
   "source": [
    "#Feature importance for the target label can be quantified by the weight vector to predict target label\n",
    "featue_importances = weights[target_label]\n",
    "\n",
    "#Find the indices of features from the most important to the least important \n",
    "featue_importances_indices = np.argsort(featue_importances)[::-1]\n",
    "\n",
    "print(\"Features ordered by importance: \", [iris.feature_names[i] for i in featue_importances_indices])"
   ]
  },
  {
   "cell_type": "markdown",
   "id": "a7051a29",
   "metadata": {},
   "source": [
    "#### Perform the perturbation tarwards the found instance\n",
    "\n",
    "There are two ways here: <br>\n",
    "(1) Directly update the value of the specific feature in the original input to the value of that in the instance <br>\n",
    "(2) When perturbing a feature, fine-tune the perturbation by adding the feature value step by step\n",
    "\n",
    "Here, let's look at the first way first:"
   ]
  },
  {
   "cell_type": "code",
   "execution_count": 15,
   "id": "e867792e",
   "metadata": {},
   "outputs": [
    {
     "name": "stdout",
     "output_type": "stream",
     "text": [
      "Adversarial attack succeeds!\n",
      "The original input is:  [6.  2.  4.5 1.7]\n",
      "The target instance is:  [6.  3.  4.8 1.8]\n",
      "The adversarial example is:  [6.  2.  4.8 1.7]\n",
      "The size of perturbation is: 0.3\n"
     ]
    }
   ],
   "source": [
    "adversarial_example = original_input.copy()\n",
    "for feature in featue_importances_indices:\n",
    "    adversarial_example[feature] = good_instance[feature]\n",
    "    if softmax_reg.predict([adversarial_example])[0] == target_label:\n",
    "        break\n",
    "perturbation_norm = np.linalg.norm((np.array(adversarial_example) - np.array(original_input)), ord=1) \n",
    "print(\"Adversarial attack succeeds!\")\n",
    "print(\"The original input is: \", original_input)\n",
    "print(\"The target instance is: \", good_instance)\n",
    "print(\"The adversarial example is: \", adversarial_example)\n",
    "print(\"The size of perturbation is: {:.1f}\".format(perturbation_norm))"
   ]
  },
  {
   "cell_type": "markdown",
   "id": "fda42a21",
   "metadata": {},
   "source": [
    "Then, let's look at the second way to fine-tune the perturbation:"
   ]
  },
  {
   "cell_type": "code",
   "execution_count": 16,
   "id": "b0265989",
   "metadata": {},
   "outputs": [
    {
     "name": "stdout",
     "output_type": "stream",
     "text": [
      "Adversarial attack succeeds!\n",
      "The original input is:  [6.  2.  4.5 1.7]\n",
      "The target instance is:  [6.  3.  4.8 1.8]\n",
      "The adversarial example is:  [6.  2.  4.7 1.7]\n",
      "The size of perturbation is: 0.2\n"
     ]
    }
   ],
   "source": [
    "adversarial_example = original_input.copy()\n",
    "success_flag = 0\n",
    "\n",
    "for feature in featue_importances_indices:\n",
    "    gap = round(good_instance[feature] - adversarial_example[feature], 1)\n",
    "    if gap == 0:\n",
    "        continue\n",
    "    elif gap > 0:\n",
    "        increment = 0.1\n",
    "        while increment <= gap:\n",
    "            adversarial_example[feature] += 0.1\n",
    "            if softmax_reg.predict([adversarial_example])[0] == target_label:\n",
    "                success_flag = 1\n",
    "                break\n",
    "            increment = round(increment + 0.1, 1)\n",
    "    else:\n",
    "        increment = -0.1\n",
    "        while increment >= gap:\n",
    "            adversarial_example[feature] -= 0.1\n",
    "            if softmax_reg.predict([adversarial_example])[0] == target_label:\n",
    "                success_flag = 1\n",
    "                break\n",
    "            increment = round(increment - 0.1, 1)\n",
    "    if success_flag == 1:\n",
    "        break \n",
    "perturbation_norm = np.linalg.norm((np.array(adversarial_example) - np.array(original_input)), ord=1) \n",
    "print(\"Adversarial attack succeeds!\")\n",
    "print(\"The original input is: \", original_input)\n",
    "print(\"The target instance is: \", good_instance)\n",
    "print(\"The adversarial example is: \", adversarial_example)\n",
    "print(\"The size of perturbation is: {:.1f}\".format(perturbation_norm))"
   ]
  }
 ],
 "metadata": {
  "kernelspec": {
   "display_name": "Python 3 (ipykernel)",
   "language": "python",
   "name": "python3"
  },
  "language_info": {
   "codemirror_mode": {
    "name": "ipython",
    "version": 3
   },
   "file_extension": ".py",
   "mimetype": "text/x-python",
   "name": "python",
   "nbconvert_exporter": "python",
   "pygments_lexer": "ipython3",
   "version": "3.10.2"
  }
 },
 "nbformat": 4,
 "nbformat_minor": 5
}
