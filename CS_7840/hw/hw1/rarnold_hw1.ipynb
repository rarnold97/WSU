{
 "cells": [
  {
   "cell_type": "code",
   "execution_count": 2,
   "id": "079d1761",
   "metadata": {},
   "outputs": [
    {
     "name": "stdout",
     "output_type": "stream",
     "text": [
      "Imports successful ...\n"
     ]
    }
   ],
   "source": [
    "# imports \n",
    "\n",
    "import numpy as np\n",
    "import matplotlib.pyplot as plt \n",
    "import tensorflow as tf \n",
    "from sklearn.metrics import confusion_matrix\n",
    "from numpy import linalg as la \n",
    "import scipy\n",
    "\n",
    "# validate that imports and dependencies are setup correctly \n",
    "print(\"Imports successful ...\")"
   ]
  },
  {
   "cell_type": "code",
   "execution_count": 3,
   "id": "ad2bb624",
   "metadata": {},
   "outputs": [],
   "source": [
    "# load the mnst characer dataset\n",
    "mnist = tf.keras.datasets.mnist\n",
    "\n",
    "(x_train, y_train), (x_test, y_test) = mnist.load_data()"
   ]
  },
  {
   "cell_type": "code",
   "execution_count": 4,
   "id": "38c8b5f4",
   "metadata": {},
   "outputs": [
    {
     "data": {
      "text/plain": [
       "<matplotlib.image.AxesImage at 0x2a40a90e2b0>"
      ]
     },
     "execution_count": 4,
     "metadata": {},
     "output_type": "execute_result"
    },
    {
     "data": {
      "image/png": "[encoded data removed]",
      "text/plain": [
       "<Figure size 432x288 with 1 Axes>"
      ]
     },
     "metadata": {
      "needs_background": "light"
     },
     "output_type": "display_data"
    },
    {
     "data": {
      "image/png": "[encoded data removed]",
      "text/plain": [
       "<Figure size 432x288 with 1 Axes>"
      ]
     },
     "metadata": {
      "needs_background": "light"
     },
     "output_type": "display_data"
    }
   ],
   "source": [
    "# create a plotting object and show examples\n",
    "fig = plt.figure()\n",
    "ax = fig.add_subplot(111)\n",
    "ax.imshow(x_train[0,:,:])\n",
    "\n",
    "fig2 = plt.figure()\n",
    "ax2 = fig2.add_subplot(111)\n",
    "ax2.imshow(x_test[2500, :, :])"
   ]
  },
  {
   "cell_type": "code",
   "execution_count": 5,
   "id": "8fc21cdc",
   "metadata": {},
   "outputs": [
    {
     "data": {
      "text/plain": [
       "2"
      ]
     },
     "execution_count": 5,
     "metadata": {},
     "output_type": "execute_result"
    }
   ],
   "source": [
    "y_test[2500] "
   ]
  },
  {
   "cell_type": "code",
   "execution_count": 6,
   "id": "c75b84c2",
   "metadata": {},
   "outputs": [
    {
     "data": {
      "text/plain": [
       "49.0"
      ]
     },
     "execution_count": 6,
     "metadata": {},
     "output_type": "execute_result"
    }
   ],
   "source": [
    "784/16"
   ]
  },
  {
   "cell_type": "code",
   "execution_count": 7,
   "id": "1eb121f1",
   "metadata": {},
   "outputs": [],
   "source": [
    "# construct a machine learning model\n",
    "model = tf.keras.models.Sequential([tf.keras.layers.Flatten(), \n",
    "                                    tf.keras.layers.Dense(784, activation=tf.nn.tanh),\n",
    "                                    tf.keras.layers.Dropout(0.2), \n",
    "                                    tf.keras.layers.Dense(10, activation=tf.nn.softmax)])\n"
   ]
  },
  {
   "cell_type": "code",
   "execution_count": 8,
   "id": "25b2b135",
   "metadata": {},
   "outputs": [],
   "source": [
    "#compile model\n",
    "model.compile(optimizer=\"SGD\", loss = 'mean_squared_error', metrics=['accuracy'])"
   ]
  },
  {
   "cell_type": "code",
   "execution_count": 9,
   "id": "07609ea2",
   "metadata": {},
   "outputs": [
    {
     "name": "stdout",
     "output_type": "stream",
     "text": [
      "1875/1875 [==============================] - 7s 4ms/step - loss: 27.3177 - accuracy: 0.0947\n"
     ]
    },
    {
     "data": {
      "text/plain": [
       "<tensorflow.python.keras.callbacks.History at 0x2a40aba2b20>"
      ]
     },
     "execution_count": 9,
     "metadata": {},
     "output_type": "execute_result"
    }
   ],
   "source": [
    "model.fit(x_train, y_train, epochs=1)"
   ]
  },
  {
   "cell_type": "code",
   "execution_count": 10,
   "id": "a76209e8",
   "metadata": {},
   "outputs": [],
   "source": [
    "test_predictions = model.predict(x_test)"
   ]
  },
  {
   "cell_type": "code",
   "execution_count": 11,
   "id": "4ae117b0",
   "metadata": {},
   "outputs": [],
   "source": [
    "confusion = confusion_matrix(y_test, np.argmax(test_predictions, axis=1))"
   ]
  },
  {
   "cell_type": "code",
   "execution_count": 12,
   "id": "b21c14df",
   "metadata": {},
   "outputs": [
    {
     "data": {
      "text/plain": [
       "array([[ 98,  81, 127, 137, 109,  96,  66,  86, 108,  72],\n",
       "       [ 88, 110, 170, 137, 112, 102, 150,  80,  76, 110],\n",
       "       [ 86, 116, 140,  73,  77,  92, 120,  76, 142, 110],\n",
       "       [ 72,  92, 104,  96, 143,  91,  95,  77, 132, 108],\n",
       "       [129,  99, 111, 140,  57,  85,  92,  93, 108,  68],\n",
       "       [ 98,  89,  88,  88,  88,  86,  94,  72,  88, 101],\n",
       "       [102, 111, 133,  87, 102,  71,  81,  60, 130,  81],\n",
       "       [103, 130,  80,  89, 160, 103, 104, 100,  83,  76],\n",
       "       [103, 123, 121,  99, 102,  52, 106, 102, 103,  63],\n",
       "       [ 78,  99, 109, 116, 109, 103,  89,  87, 112, 107]], dtype=int64)"
      ]
     },
     "execution_count": 12,
     "metadata": {},
     "output_type": "execute_result"
    }
   ],
   "source": [
    "confusion"
   ]
  },
  {
   "cell_type": "code",
   "execution_count": 13,
   "id": "acd36f0c",
   "metadata": {},
   "outputs": [
    {
     "name": "stdout",
     "output_type": "stream",
     "text": [
      "Epoch 1/10\n",
      "1875/1875 [==============================] - 9s 5ms/step - loss: 27.3150 - accuracy: 0.1013\n",
      "Epoch 2/10\n",
      "1875/1875 [==============================] - ETA: 0s - loss: 27.3062 - accuracy: 0.100 - 8s 5ms/step - loss: 27.3139 - accuracy: 0.1006\n",
      "Epoch 3/10\n",
      "1875/1875 [==============================] - 10s 5ms/step - loss: 27.3132 - accuracy: 0.1028\n",
      "Epoch 4/10\n",
      "1875/1875 [==============================] - 9s 5ms/step - loss: 27.3125 - accuracy: 0.0999\n",
      "Epoch 5/10\n",
      "1875/1875 [==============================] - 10s 5ms/step - loss: 27.3120 - accuracy: 0.1002\n",
      "Epoch 6/10\n",
      "1875/1875 [==============================] - 10s 5ms/step - loss: 27.3116 - accuracy: 0.1006: 1s - \n",
      "Epoch 7/10\n",
      "1875/1875 [==============================] - 10s 5ms/step - loss: 27.3112 - accuracy: 0.1009\n",
      "Epoch 8/10\n",
      "1875/1875 [==============================] - 9s 5ms/step - loss: 27.3108 - accuracy: 0.0996\n",
      "Epoch 9/10\n",
      "1875/1875 [==============================] - 10s 5ms/step - loss: 27.3105 - accuracy: 0.0994\n",
      "Epoch 10/10\n",
      "1875/1875 [==============================] - 10s 5ms/step - loss: 27.3102 - accuracy: 0.0995\n"
     ]
    },
    {
     "data": {
      "text/plain": [
       "<tensorflow.python.keras.callbacks.History at 0x2a40c0d6e50>"
      ]
     },
     "execution_count": 13,
     "metadata": {},
     "output_type": "execute_result"
    }
   ],
   "source": [
    "model.compile(optimizer=\"SGD\", loss = 'mean_squared_error', metrics=['accuracy'])\n",
    "model.fit(x_train, y_train, epochs=10)"
   ]
  },
  {
   "cell_type": "code",
   "execution_count": 14,
   "id": "fd9f9e88",
   "metadata": {},
   "outputs": [
    {
     "data": {
      "text/plain": [
       "array([[ 97, 111,  91,  99,  83, 102, 104, 102, 106,  85],\n",
       "       [ 95, 143, 106,  86, 136,  91, 153,  95, 133,  97],\n",
       "       [106, 108, 121,  93, 110,  94, 105,  86, 106, 103],\n",
       "       [ 80, 122, 100, 100, 113, 109,  96,  95,  94, 101],\n",
       "       [103, 125, 118,  94,  94,  91,  93,  87,  95,  82],\n",
       "       [ 89, 111, 103,  74,  92,  91,  98,  86,  72,  76],\n",
       "       [ 75,  91,  96,  90, 118, 118,  98,  86,  92,  94],\n",
       "       [ 85, 118,  95,  81, 121, 115, 105, 100, 106, 102],\n",
       "       [112,  99,  83,  81, 100, 111, 124,  82,  96,  86],\n",
       "       [102,  85,  92, 126, 127,  94,  92, 104,  92,  95]], dtype=int64)"
      ]
     },
     "execution_count": 14,
     "metadata": {},
     "output_type": "execute_result"
    }
   ],
   "source": [
    "test_predictions = model.predict(x_test)\n",
    "confusion = confusion_matrix(y_test, np.argmax(test_predictions, axis=1))\n",
    "confusion"
   ]
  },
  {
   "cell_type": "code",
   "execution_count": 15,
   "id": "23813270",
   "metadata": {},
   "outputs": [],
   "source": [
    "# use a different loss function than mean squared error\n",
    "model.compile(optimizer=\"SGD\", loss='sparse_categorical_crossentropy', metrics = ['accuracy'])"
   ]
  },
  {
   "cell_type": "code",
   "execution_count": 16,
   "id": "f513f510",
   "metadata": {},
   "outputs": [
    {
     "name": "stdout",
     "output_type": "stream",
     "text": [
      "1875/1875 [==============================] - 10s 5ms/step - loss: 0.4989 - accuracy: 0.8496\n"
     ]
    },
    {
     "data": {
      "text/plain": [
       "<tensorflow.python.keras.callbacks.History at 0x2a40d5f48b0>"
      ]
     },
     "execution_count": 16,
     "metadata": {},
     "output_type": "execute_result"
    }
   ],
   "source": [
    "model.fit(x_train, y_train, epochs=1)"
   ]
  },
  {
   "cell_type": "code",
   "execution_count": 17,
   "id": "2431abc7",
   "metadata": {},
   "outputs": [
    {
     "data": {
      "text/plain": [
       "array([[ 954,    0,    2,    1,    0,   10,    6,    2,    4,    1],\n",
       "       [   0, 1117,    3,    1,    1,    0,    4,    2,    7,    0],\n",
       "       [  13,    2,  921,   12,    9,    0,   12,   20,   35,    8],\n",
       "       [   3,    2,   23,  899,    0,   17,    4,   16,   31,   15],\n",
       "       [   0,    1,    9,    2,  843,    0,   17,    2,   17,   91],\n",
       "       [   8,    4,    8,   48,    5,  755,   23,    5,   25,   11],\n",
       "       [  10,    2,   12,    1,   10,    6,  909,    3,    5,    0],\n",
       "       [   3,   15,   40,    2,    5,    0,    0,  920,    5,   38],\n",
       "       [   9,    7,   10,   29,    8,   17,   14,   12,  850,   18],\n",
       "       [  12,    7,    7,   10,   19,    8,    0,   32,    3,  911]],\n",
       "      dtype=int64)"
      ]
     },
     "execution_count": 17,
     "metadata": {},
     "output_type": "execute_result"
    }
   ],
   "source": [
    "test_predictions = model.predict(x_test)\n",
    "confusion = confusion_matrix(y_test, np.argmax(test_predictions, axis=1))\n",
    "confusion"
   ]
  },
  {
   "cell_type": "markdown",
   "id": "73c43205",
   "metadata": {},
   "source": [
    "## Homework Question 2"
   ]
  },
  {
   "cell_type": "code",
   "execution_count": 45,
   "id": "472ef3bc",
   "metadata": {},
   "outputs": [
    {
     "data": {
      "text/plain": [
       "array([[-5,  4],\n",
       "       [ 1,  3],\n",
       "       [ 4,  4],\n",
       "       [ 0,  4],\n",
       "       [-2, -5],\n",
       "       [ 0,  1],\n",
       "       [-4,  0],\n",
       "       [-3, -5],\n",
       "       [ 0, -5],\n",
       "       [ 2, -3]])"
      ]
     },
     "execution_count": 45,
     "metadata": {},
     "output_type": "execute_result"
    }
   ],
   "source": [
    "x = np.random.randint(-5, 5, (10, 2))\n",
    "x"
   ]
  },
  {
   "cell_type": "code",
   "execution_count": 46,
   "id": "98cc0776",
   "metadata": {},
   "outputs": [],
   "source": [
    "c1 = x[0,:]\n",
    "c2 = x[1,:]\n",
    "c3 = x[2,:]\n",
    "\n",
    "dist1 = c1 - x\n",
    "dist2 = c2 - x\n",
    "dist3 = c3 - x "
   ]
  },
  {
   "cell_type": "code",
   "execution_count": 47,
   "id": "91ef93c8",
   "metadata": {},
   "outputs": [],
   "source": [
    "k1 = la.norm(dist1, axis=1)\n",
    "k2 = la.norm(dist2, axis=1)\n",
    "k3 = la.norm(dist3, axis=1)"
   ]
  },
  {
   "cell_type": "code",
   "execution_count": 48,
   "id": "8266fa13",
   "metadata": {},
   "outputs": [
    {
     "data": {
      "text/plain": [
       "array([0, 1, 2, 1, 1, 1, 0, 1, 1, 1], dtype=int64)"
      ]
     },
     "execution_count": 48,
     "metadata": {},
     "output_type": "execute_result"
    }
   ],
   "source": [
    "clusters = np.argmin([k1, k2, k3], axis=0)\n",
    "\n",
    "clusters"
   ]
  },
  {
   "cell_type": "code",
   "execution_count": 50,
   "id": "90253fc0",
   "metadata": {},
   "outputs": [
    {
     "data": {
      "text/plain": [
       "[<matplotlib.lines.Line2D at 0x2a40de62e20>]"
      ]
     },
     "execution_count": 50,
     "metadata": {},
     "output_type": "execute_result"
    },
    {
     "data": {
      "image/png": "[encoded data removed]",
      "text/plain": [
       "<Figure size 432x288 with 1 Axes>"
      ]
     },
     "metadata": {
      "needs_background": "light"
     },
     "output_type": "display_data"
    }
   ],
   "source": [
    "C1 = x[clusters==0]\n",
    "C2 = x[clusters==1]\n",
    "C3 = x[clusters==2]\n",
    "centroids = np.array([c1, c2, c3])\n",
    "#clusters \n",
    "plt.plot(C1[:,0],C1[:,1],'r.', label='cluster 1')\n",
    "plt.plot(C2[:,0],C2[:,1],'b.', label='cluster 2')\n",
    "plt.plot(C3[:,0],C3[:,1],'g.', label='cluster 3')\n",
    "\n",
    "# centers\n",
    "plt.plot(centroids[:,0], centroids[:,1], 'yo', markersize = 8, label='Centroids')"
   ]
  },
  {
   "cell_type": "markdown",
   "id": "915057f4",
   "metadata": {},
   "source": [
    "## Homework Question 3"
   ]
  },
  {
   "cell_type": "code",
   "execution_count": 71,
   "id": "9b64f200",
   "metadata": {},
   "outputs": [],
   "source": [
    "x11 = np.random.standard_normal((200, 1)) * 1.2 + np.ones((200,1))-2\n",
    "x12 = np.random.standard_normal((200,1))*0.8 + np.ones((200,1))-2\n",
    "x1 = np.concatenate((x11, x12), axis=1)"
   ]
  },
  {
   "cell_type": "code",
   "execution_count": 72,
   "id": "e5ac0526",
   "metadata": {},
   "outputs": [
    {
     "data": {
      "text/plain": [
       "[<matplotlib.lines.Line2D at 0x2a40ef770d0>]"
      ]
     },
     "execution_count": 72,
     "metadata": {},
     "output_type": "execute_result"
    },
    {
     "data": {
      "image/png": "[encoded data removed]",
      "text/plain": [
       "<Figure size 432x288 with 1 Axes>"
      ]
     },
     "metadata": {
      "needs_background": "light"
     },
     "output_type": "display_data"
    }
   ],
   "source": [
    "plt.plot(x1[:, 0], x1[:, 1], '*')"
   ]
  },
  {
   "cell_type": "code",
   "execution_count": 73,
   "id": "58f6ccfd",
   "metadata": {},
   "outputs": [],
   "source": [
    "x21 = np.random.standard_normal((200, 1)) * 0.9 + np.ones((200,1))\n",
    "x22 = np.random.standard_normal((200,1))*0.7 + np.ones((200,1))\n",
    "x2 = np.concatenate((x21, x22), axis=1)\n"
   ]
  },
  {
   "cell_type": "code",
   "execution_count": 74,
   "id": "ec47179d",
   "metadata": {},
   "outputs": [
    {
     "data": {
      "text/plain": [
       "[<matplotlib.lines.Line2D at 0x2a40efd84c0>]"
      ]
     },
     "execution_count": 74,
     "metadata": {},
     "output_type": "execute_result"
    },
    {
     "data": {
      "image/png": "[encoded data removed]",
      "text/plain": [
       "<Figure size 432x288 with 1 Axes>"
      ]
     },
     "metadata": {
      "needs_background": "light"
     },
     "output_type": "display_data"
    }
   ],
   "source": [
    "plt.plot(x2[:, 0], x2[:, 1], '*')"
   ]
  },
  {
   "cell_type": "code",
   "execution_count": 75,
   "id": "cae0e5a6",
   "metadata": {},
   "outputs": [],
   "source": [
    "x31 = np.random.standard_normal((200,1))*0.8+np.ones((200,1))+3\n",
    "x32 = np.random.standard_normal((200,1))*0.5+np.ones((200,1))+4\n",
    "x3 = np.concatenate((x31,x32), axis=1)"
   ]
  },
  {
   "cell_type": "code",
   "execution_count": 77,
   "id": "e2ff25c4",
   "metadata": {},
   "outputs": [
    {
     "data": {
      "text/plain": [
       "[<matplotlib.lines.Line2D at 0x2a40f1d99d0>]"
      ]
     },
     "execution_count": 77,
     "metadata": {},
     "output_type": "execute_result"
    },
    {
     "data": {
      "image/png": "[encoded data removed]",
      "text/plain": [
       "<Figure size 432x288 with 1 Axes>"
      ]
     },
     "metadata": {
      "needs_background": "light"
     },
     "output_type": "display_data"
    }
   ],
   "source": [
    "plt.plot(x3[:, 0], x3[:, 1], '*')"
   ]
  },
  {
   "cell_type": "code",
   "execution_count": 84,
   "id": "f6f9321a",
   "metadata": {},
   "outputs": [
    {
     "name": "stdout",
     "output_type": "stream",
     "text": [
      "1200\n"
     ]
    },
    {
     "data": {
      "text/plain": [
       "[<matplotlib.lines.Line2D at 0x2a40f2f71f0>]"
      ]
     },
     "execution_count": 84,
     "metadata": {},
     "output_type": "execute_result"
    },
    {
     "data": {
      "image/png": "[encoded data removed]",
      "text/plain": [
       "<Figure size 432x288 with 1 Axes>"
      ]
     },
     "metadata": {
      "needs_background": "light"
     },
     "output_type": "display_data"
    }
   ],
   "source": [
    "X = np.concatenate((x1, x2, x3), axis=0)\n",
    "\n",
    "plt.plot(X[0:200,0], X[0:200, 1], 'r*')\n",
    "plt.plot(X[200:400,0], X[200:400,1], 'g*')\n",
    "plt.plot(X[400:600,0], X[400:600, 1], 'b*')"
   ]
  },
  {
   "cell_type": "code",
   "execution_count": 85,
   "id": "4e9b8920",
   "metadata": {},
   "outputs": [],
   "source": [
    "from scipy.spatial.distance import euclidean as cdist\n",
    "x = X\n",
    "k = 3\n",
    "no_of_iterations = 5\n",
    "idx = np.sort(np.random.choice(len(x), k, replace=False))\n",
    "\n",
    "centroids = x[idx,:]"
   ]
  },
  {
   "cell_type": "code",
   "execution_count": 86,
   "id": "5d104901",
   "metadata": {},
   "outputs": [
    {
     "ename": "ValueError",
     "evalue": "Input vector should be 1-D.",
     "output_type": "error",
     "traceback": [
      "\u001b[1;31m---------------------------------------------------------------------------\u001b[0m",
      "\u001b[1;31mValueError\u001b[0m                                Traceback (most recent call last)",
      "\u001b[1;32m~\\AppData\\Local\\Temp/ipykernel_15252/3603031906.py\u001b[0m in \u001b[0;36m<module>\u001b[1;34m\u001b[0m\n\u001b[1;32m----> 1\u001b[1;33m \u001b[0mk_by_1_corr_fn\u001b[0m \u001b[1;33m=\u001b[0m \u001b[0mcdist\u001b[0m\u001b[1;33m(\u001b[0m\u001b[0mx\u001b[0m\u001b[1;33m,\u001b[0m \u001b[0mcentroids\u001b[0m\u001b[1;33m,\u001b[0m \u001b[1;34m'seuclidean'\u001b[0m\u001b[1;33m)\u001b[0m\u001b[1;33m\u001b[0m\u001b[1;33m\u001b[0m\u001b[0m\n\u001b[0m",
      "\u001b[1;32m~\\Anaconda3\\envs\\SoftComputing\\lib\\site-packages\\scipy\\spatial\\distance.py\u001b[0m in \u001b[0;36meuclidean\u001b[1;34m(u, v, w)\u001b[0m\n\u001b[0;32m    595\u001b[0m \u001b[1;33m\u001b[0m\u001b[0m\n\u001b[0;32m    596\u001b[0m     \"\"\"\n\u001b[1;32m--> 597\u001b[1;33m     \u001b[1;32mreturn\u001b[0m \u001b[0mminkowski\u001b[0m\u001b[1;33m(\u001b[0m\u001b[0mu\u001b[0m\u001b[1;33m,\u001b[0m \u001b[0mv\u001b[0m\u001b[1;33m,\u001b[0m \u001b[0mp\u001b[0m\u001b[1;33m=\u001b[0m\u001b[1;36m2\u001b[0m\u001b[1;33m,\u001b[0m \u001b[0mw\u001b[0m\u001b[1;33m=\u001b[0m\u001b[0mw\u001b[0m\u001b[1;33m)\u001b[0m\u001b[1;33m\u001b[0m\u001b[1;33m\u001b[0m\u001b[0m\n\u001b[0m\u001b[0;32m    598\u001b[0m \u001b[1;33m\u001b[0m\u001b[0m\n\u001b[0;32m    599\u001b[0m \u001b[1;33m\u001b[0m\u001b[0m\n",
      "\u001b[1;32m~\\Anaconda3\\envs\\SoftComputing\\lib\\site-packages\\scipy\\spatial\\distance.py\u001b[0m in \u001b[0;36mminkowski\u001b[1;34m(u, v, p, w)\u001b[0m\n\u001b[0;32m    482\u001b[0m \u001b[1;33m\u001b[0m\u001b[0m\n\u001b[0;32m    483\u001b[0m     \"\"\"\n\u001b[1;32m--> 484\u001b[1;33m     \u001b[0mu\u001b[0m \u001b[1;33m=\u001b[0m \u001b[0m_validate_vector\u001b[0m\u001b[1;33m(\u001b[0m\u001b[0mu\u001b[0m\u001b[1;33m)\u001b[0m\u001b[1;33m\u001b[0m\u001b[1;33m\u001b[0m\u001b[0m\n\u001b[0m\u001b[0;32m    485\u001b[0m     \u001b[0mv\u001b[0m \u001b[1;33m=\u001b[0m \u001b[0m_validate_vector\u001b[0m\u001b[1;33m(\u001b[0m\u001b[0mv\u001b[0m\u001b[1;33m)\u001b[0m\u001b[1;33m\u001b[0m\u001b[1;33m\u001b[0m\u001b[0m\n\u001b[0;32m    486\u001b[0m     \u001b[1;32mif\u001b[0m \u001b[0mp\u001b[0m \u001b[1;33m<\u001b[0m \u001b[1;36m1\u001b[0m\u001b[1;33m:\u001b[0m\u001b[1;33m\u001b[0m\u001b[1;33m\u001b[0m\u001b[0m\n",
      "\u001b[1;32m~\\Anaconda3\\envs\\SoftComputing\\lib\\site-packages\\scipy\\spatial\\distance.py\u001b[0m in \u001b[0;36m_validate_vector\u001b[1;34m(u, dtype)\u001b[0m\n\u001b[0;32m    305\u001b[0m     \u001b[0mu\u001b[0m \u001b[1;33m=\u001b[0m \u001b[0mnp\u001b[0m\u001b[1;33m.\u001b[0m\u001b[0matleast_1d\u001b[0m\u001b[1;33m(\u001b[0m\u001b[0mu\u001b[0m\u001b[1;33m.\u001b[0m\u001b[0msqueeze\u001b[0m\u001b[1;33m(\u001b[0m\u001b[1;33m)\u001b[0m\u001b[1;33m)\u001b[0m\u001b[1;33m\u001b[0m\u001b[1;33m\u001b[0m\u001b[0m\n\u001b[0;32m    306\u001b[0m     \u001b[1;32mif\u001b[0m \u001b[0mu\u001b[0m\u001b[1;33m.\u001b[0m\u001b[0mndim\u001b[0m \u001b[1;33m>\u001b[0m \u001b[1;36m1\u001b[0m\u001b[1;33m:\u001b[0m\u001b[1;33m\u001b[0m\u001b[1;33m\u001b[0m\u001b[0m\n\u001b[1;32m--> 307\u001b[1;33m         \u001b[1;32mraise\u001b[0m \u001b[0mValueError\u001b[0m\u001b[1;33m(\u001b[0m\u001b[1;34m\"Input vector should be 1-D.\"\u001b[0m\u001b[1;33m)\u001b[0m\u001b[1;33m\u001b[0m\u001b[1;33m\u001b[0m\u001b[0m\n\u001b[0m\u001b[0;32m    308\u001b[0m     warnings.warn(\n\u001b[0;32m    309\u001b[0m         \u001b[1;34m\"scipy.spatial.distance metrics ignoring length-1 dimensions is \"\u001b[0m\u001b[1;33m\u001b[0m\u001b[1;33m\u001b[0m\u001b[0m\n",
      "\u001b[1;31mValueError\u001b[0m: Input vector should be 1-D."
     ]
    }
   ],
   "source": [
    "k_by_1_corr_fn = cdist(x, centroids, 'seuclidean')"
   ]
  },
  {
   "cell_type": "code",
   "execution_count": null,
   "id": "57f424a5",
   "metadata": {},
   "outputs": [],
   "source": [
    "points = np.array([np.argmin(i) for i in k_by_1_corr_fn])"
   ]
  },
  {
   "cell_type": "code",
   "execution_count": 35,
   "id": "2b5502f0",
   "metadata": {},
   "outputs": [
    {
     "data": {
      "text/plain": [
       "[<matplotlib.lines.Line2D at 0x2a40dd0dd30>]"
      ]
     },
     "execution_count": 35,
     "metadata": {},
     "output_type": "execute_result"
    },
    {
     "data": {
      "image/png": "[encoded data removed]",
      "text/plain": [
       "<Figure size 432x288 with 1 Axes>"
      ]
     },
     "metadata": {
      "needs_background": "light"
     },
     "output_type": "display_data"
    }
   ],
   "source": [
    "plt.plot(X[0:200,0], X[0:200, 1], 'r*')\n",
    "plt.plot(X[200:400,0], X[200:400,1], 'g*')\n",
    "plt.plot(X[400:600,0], X[400:600, 1], 'b*')\n",
    "\n",
    "plt.plot(centroids[:,0], centroids[:,1], 'ko', markersize=8, label='centroids')"
   ]
  },
  {
   "cell_type": "markdown",
   "id": "f118aa52",
   "metadata": {},
   "source": [
    "## Homework Question 4"
   ]
  },
  {
   "cell_type": "code",
   "execution_count": 87,
   "id": "30b5de1f",
   "metadata": {},
   "outputs": [],
   "source": [
    "def generateSamples(N, variance = 100):\n",
    "    X = np.matrix(range(N)).T + 1\n",
    "    Y = np.matrix([random.random()*variance + i for i in range(len(X))]).T\n",
    "    return X, Y"
   ]
  },
  {
   "cell_type": "code",
   "execution_count": 88,
   "id": "e5f647ef",
   "metadata": {},
   "outputs": [],
   "source": [
    "def fitModel_gradient(x,y):\n",
    "    N = len(x)\n",
    "    w = np.zeros((x.shape[1],1))\n",
    "    eta = 0.0001\n",
    "    maxIteration = 100\n",
    "    for i in range(maxIteration):\n",
    "        error = x*w - y \n",
    "        gradient = x.T *error/N\n",
    "        w =w - eta*gradient\n",
    "    return w"
   ]
  },
  {
   "cell_type": "code",
   "execution_count": 89,
   "id": "ace7a71d",
   "metadata": {},
   "outputs": [],
   "source": [
    "def plotModel(x, y, w):\n",
    "    plt.plot(x[:,1], y, \"x\")\n",
    "    plt.plot(x[:,1], x*w, \"r--\")\n",
    "    plt.show()"
   ]
  },
  {
   "cell_type": "code",
   "execution_count": 90,
   "id": "13f28a04",
   "metadata": {},
   "outputs": [],
   "source": [
    "def test(N, variance, modelFunction):\n",
    "    X,Y = generateSamples(N,variance)\n",
    "    X = np.hstack([np.matrix(np.ones(len(X))).T, X])\n",
    "    w = modelFunction(X,Y)\n",
    "    plotModel(X,Y,w)"
   ]
  },
  {
   "cell_type": "code",
   "execution_count": 91,
   "id": "8a5cb0d2",
   "metadata": {},
   "outputs": [
    {
     "data": {
      "image/png": "[encoded data removed]",
      "text/plain": [
       "<Figure size 432x288 with 1 Axes>"
      ]
     },
     "metadata": {
      "needs_background": "light"
     },
     "output_type": "display_data"
    }
   ],
   "source": [
    "import random\n",
    "X, Y = generateSamples(500,300)\n",
    "test(50,50, fitModel_gradient)"
   ]
  },
  {
   "cell_type": "code",
   "execution_count": 92,
   "id": "242aeeaf",
   "metadata": {},
   "outputs": [
    {
     "data": {
      "image/png": "[encoded data removed]",
      "text/plain": [
       "<Figure size 432x288 with 1 Axes>"
      ]
     },
     "metadata": {
      "needs_background": "light"
     },
     "output_type": "display_data"
    }
   ],
   "source": [
    "test(125,200, fitModel_gradient)"
   ]
  },
  {
   "cell_type": "code",
   "execution_count": 101,
   "id": "7b5044d9",
   "metadata": {},
   "outputs": [],
   "source": [
    "import scipy.optimize as sopt\n",
    "from mpl_toolkits.mplot3d import Axes3D\n",
    "from sklearn.preprocessing import StandardScaler\n",
    "from scipy.linalg import eigh\n"
   ]
  },
  {
   "cell_type": "code",
   "execution_count": 97,
   "id": "d28a0623",
   "metadata": {},
   "outputs": [
    {
     "data": {
      "text/plain": [
       "(15000, 784)"
      ]
     },
     "execution_count": 97,
     "metadata": {},
     "output_type": "execute_result"
    }
   ],
   "source": [
    "data = x_train[0:15000, :, :]\n",
    "label = y_train[0:15000]\n",
    "data = data.reshape(len(data), -1)\n",
    "data.shape"
   ]
  },
  {
   "cell_type": "code",
   "execution_count": 99,
   "id": "6eb36658",
   "metadata": {},
   "outputs": [],
   "source": [
    "# standardizes data by normalizing between 0 and 1 \n",
    "standardized_data = StandardScaler().fit_transform(data)"
   ]
  },
  {
   "cell_type": "code",
   "execution_count": 102,
   "id": "f1833d6e",
   "metadata": {},
   "outputs": [],
   "source": [
    "## Implementation of the PCA algorithm \n",
    "sample_data = standardized_data\n",
    "covar_matrix = np.matmul(sample_data.T, sample_data)\n",
    "values, vectors = eigh(covar_matrix, eigvals=(782,783))\n",
    "vectors = vectors.T"
   ]
  },
  {
   "cell_type": "code",
   "execution_count": null,
   "id": "49be2f6f",
   "metadata": {},
   "outputs": [],
   "source": [
    "new_coordinates = vectors @ sample_data.T"
   ]
  }
 ],
 "metadata": {
  "kernelspec": {
   "display_name": "Python 3 (ipykernel)",
   "language": "python",
   "name": "python3"
  },
  "language_info": {
   "codemirror_mode": {
    "name": "ipython",
    "version": 3
   },
   "file_extension": ".py",
   "mimetype": "text/x-python",
   "name": "python",
   "nbconvert_exporter": "python",
   "pygments_lexer": "ipython3",
   "version": "3.8.12"
  }
 },
 "nbformat": 4,
 "nbformat_minor": 5
}
