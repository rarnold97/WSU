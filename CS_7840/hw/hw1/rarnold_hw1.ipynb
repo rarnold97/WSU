{
 "cells": [
  {
   "cell_type": "code",
   "execution_count": 38,
   "id": "079d1761",
   "metadata": {},
   "outputs": [
    {
     "name": "stdout",
     "output_type": "stream",
     "text": [
      "Imports successful ...\n"
     ]
    }
   ],
   "source": [
    "# imports \n",
    "\n",
    "import numpy as np\n",
    "import matplotlib.pyplot as plt \n",
    "import tensorflow as tf \n",
    "from sklearn.metrics import confusion_matrix\n",
    "from numpy import linalg as la \n",
    "import scipy\n",
    "\n",
    "# validate that imports and dependencies are setup correctly \n",
    "print(\"Imports successful ...\")"
   ]
  },
  {
   "cell_type": "code",
   "execution_count": 3,
   "id": "ad2bb624",
   "metadata": {},
   "outputs": [
    {
     "name": "stdout",
     "output_type": "stream",
     "text": [
      "Downloading data from https://storage.googleapis.com/tensorflow/tf-keras-datasets/mnist.npz\n",
      "11493376/11490434 [==============================] - 8s 1us/step\n"
     ]
    }
   ],
   "source": [
    "# load the mnst characer dataset\n",
    "mnist = tf.keras.datasets.mnist\n",
    "\n",
    "(x_train, y_train), (x_test, y_test) = mnist.load_data()"
   ]
  },
  {
   "cell_type": "code",
   "execution_count": 4,
   "id": "38c8b5f4",
   "metadata": {},
   "outputs": [
    {
     "data": {
      "text/plain": [
       "<matplotlib.image.AxesImage at 0x240851a3d60>"
      ]
     },
     "execution_count": 4,
     "metadata": {},
     "output_type": "execute_result"
    },
    {
     "data": {
      "image/png": "[encoded data removed]",
      "text/plain": [
       "<Figure size 432x288 with 1 Axes>"
      ]
     },
     "metadata": {
      "needs_background": "light"
     },
     "output_type": "display_data"
    },
    {
     "data": {
      "image/png": "[encoded data removed]",
      "text/plain": [
       "<Figure size 432x288 with 1 Axes>"
      ]
     },
     "metadata": {
      "needs_background": "light"
     },
     "output_type": "display_data"
    }
   ],
   "source": [
    "# create a plotting object and show examples\n",
    "fig = plt.figure()\n",
    "ax = fig.add_subplot(111)\n",
    "ax.imshow(x_train[0,:,:])\n",
    "\n",
    "fig2 = plt.figure()\n",
    "ax2 = fig2.add_subplot(111)\n",
    "ax2.imshow(x_test[2500, :, :])"
   ]
  },
  {
   "cell_type": "code",
   "execution_count": 5,
   "id": "8fc21cdc",
   "metadata": {},
   "outputs": [
    {
     "data": {
      "text/plain": [
       "2"
      ]
     },
     "execution_count": 5,
     "metadata": {},
     "output_type": "execute_result"
    }
   ],
   "source": [
    "y_test[2500] "
   ]
  },
  {
   "cell_type": "code",
   "execution_count": 6,
   "id": "c75b84c2",
   "metadata": {},
   "outputs": [
    {
     "data": {
      "text/plain": [
       "49.0"
      ]
     },
     "execution_count": 6,
     "metadata": {},
     "output_type": "execute_result"
    }
   ],
   "source": [
    "784/16"
   ]
  },
  {
   "cell_type": "code",
   "execution_count": 7,
   "id": "1eb121f1",
   "metadata": {},
   "outputs": [],
   "source": [
    "# construct a machine learning model\n",
    "model = tf.keras.models.Sequential([tf.keras.layers.Flatten(), \n",
    "                                    tf.keras.layers.Dense(784, activation=tf.nn.tanh),\n",
    "                                    tf.keras.layers.Dropout(0.2), \n",
    "                                    tf.keras.layers.Dense(10, activation=tf.nn.softmax)])\n"
   ]
  },
  {
   "cell_type": "code",
   "execution_count": null,
   "id": "25b2b135",
   "metadata": {},
   "outputs": [],
   "source": [
    "#compile model\n",
    "model.compile(optimizer=\"SGD\", loss = 'mean_squared_error', metrics=['accuracy'])"
   ]
  },
  {
   "cell_type": "code",
   "execution_count": null,
   "id": "07609ea2",
   "metadata": {},
   "outputs": [],
   "source": [
    "model.fit(x_train, y_train, epochs=1)"
   ]
  },
  {
   "cell_type": "code",
   "execution_count": 8,
   "id": "a76209e8",
   "metadata": {},
   "outputs": [],
   "source": [
    "test_predictions = model.predict(x_test)"
   ]
  },
  {
   "cell_type": "code",
   "execution_count": 9,
   "id": "4ae117b0",
   "metadata": {},
   "outputs": [],
   "source": [
    "confusion = confusion_matrix(y_test, np.argmax(test_predictions, axis=1))"
   ]
  },
  {
   "cell_type": "code",
   "execution_count": 10,
   "id": "b21c14df",
   "metadata": {},
   "outputs": [
    {
     "data": {
      "text/plain": [
       "array([[  8,  11,  34, 154,  24,  40, 473,  51, 171,  14],\n",
       "       [ 21, 574, 171,   7,  67,   8,  22,  35, 215,  15],\n",
       "       [109, 162, 114, 179,  84,  67,  33,  79, 155,  50],\n",
       "       [ 20,  98, 139, 141, 107,  23, 182,  87, 171,  42],\n",
       "       [ 15,  37,  52, 154,  81,  16,  74, 172, 259, 122],\n",
       "       [ 11,  21,  75,  90, 112,  42, 221,  55, 174,  91],\n",
       "       [106,  75, 149,  98, 103,  30,  69,  41, 211,  76],\n",
       "       [  2,  48, 103, 138, 161,  10,  71, 117, 305,  73],\n",
       "       [ 32,  54, 120, 142, 124,  16,  68,  31, 227, 160],\n",
       "       [  9,  23,  44, 237, 143,  11,  76,  70, 252, 144]], dtype=int64)"
      ]
     },
     "execution_count": 10,
     "metadata": {},
     "output_type": "execute_result"
    }
   ],
   "source": [
    "confusion"
   ]
  },
  {
   "cell_type": "code",
   "execution_count": 11,
   "id": "acd36f0c",
   "metadata": {},
   "outputs": [
    {
     "name": "stdout",
     "output_type": "stream",
     "text": [
      "Epoch 1/10\n",
      "1875/1875 [==============================] - 3s 1ms/step - loss: 27.3178 - accuracy: 0.1111\n",
      "Epoch 2/10\n",
      "1875/1875 [==============================] - 2s 1ms/step - loss: 27.3151 - accuracy: 0.1028\n",
      "Epoch 3/10\n",
      "1875/1875 [==============================] - 2s 1ms/step - loss: 27.3139 - accuracy: 0.1028\n",
      "Epoch 4/10\n",
      "1875/1875 [==============================] - 3s 1ms/step - loss: 27.3132 - accuracy: 0.1020\n",
      "Epoch 5/10\n",
      "1875/1875 [==============================] - 3s 1ms/step - loss: 27.3126 - accuracy: 0.1010\n",
      "Epoch 6/10\n",
      "1875/1875 [==============================] - 2s 1ms/step - loss: 27.3120 - accuracy: 0.1015\n",
      "Epoch 7/10\n",
      "1875/1875 [==============================] - 2s 1ms/step - loss: 27.3116 - accuracy: 0.1018\n",
      "Epoch 8/10\n",
      "1875/1875 [==============================] - 2s 1ms/step - loss: 27.3112 - accuracy: 0.1002\n",
      "Epoch 9/10\n",
      "1875/1875 [==============================] - 2s 1ms/step - loss: 27.3108 - accuracy: 0.1023\n",
      "Epoch 10/10\n",
      "1875/1875 [==============================] - 2s 1ms/step - loss: 27.3104 - accuracy: 0.1011\n"
     ]
    },
    {
     "data": {
      "text/plain": [
       "<tensorflow.python.keras.callbacks.History at 0x240868b6220>"
      ]
     },
     "execution_count": 11,
     "metadata": {},
     "output_type": "execute_result"
    }
   ],
   "source": [
    "model.compile(optimizer=\"SGD\", loss = 'mean_squared_error', metrics=['accuracy'])\n",
    "model.fit(x_train, y_train, epochs=10)"
   ]
  },
  {
   "cell_type": "code",
   "execution_count": 12,
   "id": "fd9f9e88",
   "metadata": {},
   "outputs": [
    {
     "data": {
      "text/plain": [
       "array([[114,  80,  99,  99,  87, 127,  87,  99,  90,  98],\n",
       "       [105, 112, 113, 125, 115, 136,  99, 108, 116, 106],\n",
       "       [101, 102, 125,  90, 120, 112, 110,  98,  81,  93],\n",
       "       [ 88, 129,  96, 100, 123, 119,  90, 105,  76,  84],\n",
       "       [ 98, 114, 100, 115, 117,  79,  91, 102,  75,  91],\n",
       "       [ 59,  90,  86, 101,  97,  93,  93,  92,  81, 100],\n",
       "       [107, 102, 103,  91, 100,  95, 114, 110,  68,  68],\n",
       "       [ 94, 102, 133,  99, 113, 119,  90, 106,  78,  94],\n",
       "       [106,  95, 120,  96, 121,  91,  90, 111,  66,  78],\n",
       "       [111,  84,  88, 102, 122, 104,  77, 115,  82, 124]], dtype=int64)"
      ]
     },
     "execution_count": 12,
     "metadata": {},
     "output_type": "execute_result"
    }
   ],
   "source": [
    "test_predictions = model.predict(x_test)\n",
    "confusion = confusion_matrix(y_test, np.argmax(test_predictions, axis=1))\n",
    "confusion"
   ]
  },
  {
   "cell_type": "code",
   "execution_count": 13,
   "id": "23813270",
   "metadata": {},
   "outputs": [],
   "source": [
    "# use a different loss function than mean squared error\n",
    "model.compile(optimizer=\"SGD\", loss='sparse_categorical_crossentropy', metrics = ['accuracy'])"
   ]
  },
  {
   "cell_type": "code",
   "execution_count": 14,
   "id": "f513f510",
   "metadata": {},
   "outputs": [
    {
     "name": "stdout",
     "output_type": "stream",
     "text": [
      "1875/1875 [==============================] - 2s 1ms/step - loss: 0.5032 - accuracy: 0.8472\n"
     ]
    },
    {
     "data": {
      "text/plain": [
       "<tensorflow.python.keras.callbacks.History at 0x24086bf7b80>"
      ]
     },
     "execution_count": 14,
     "metadata": {},
     "output_type": "execute_result"
    }
   ],
   "source": [
    "model.fit(x_train, y_train, epochs=1)"
   ]
  },
  {
   "cell_type": "code",
   "execution_count": 15,
   "id": "2431abc7",
   "metadata": {},
   "outputs": [
    {
     "data": {
      "text/plain": [
       "array([[ 958,    0,    0,    2,    0,    1,   10,    4,    5,    0],\n",
       "       [   0, 1110,    3,    2,    1,    0,    3,    2,   14,    0],\n",
       "       [  13,    3,  908,   21,   16,    0,    7,   22,   40,    2],\n",
       "       [   6,    1,   18,  932,    1,   12,    3,   17,   14,    6],\n",
       "       [   2,    2,    6,    0,  893,    1,    9,    4,   12,   53],\n",
       "       [  18,    3,    4,   63,    7,  723,   21,   13,   33,    7],\n",
       "       [  18,    3,    8,    3,   19,    9,  893,    3,    2,    0],\n",
       "       [   0,   11,   17,    6,    7,    0,    1,  954,    8,   24],\n",
       "       [  11,    6,    7,   50,    9,    9,   11,   17,  846,    8],\n",
       "       [   9,    5,    1,   14,   35,    5,    3,   55,   12,  870]],\n",
       "      dtype=int64)"
      ]
     },
     "execution_count": 15,
     "metadata": {},
     "output_type": "execute_result"
    }
   ],
   "source": [
    "test_predictions = model.predict(x_test)\n",
    "confusion = confusion_matrix(y_test, np.argmax(test_predictions, axis=1))\n",
    "confusion"
   ]
  },
  {
   "cell_type": "markdown",
   "id": "73c43205",
   "metadata": {},
   "source": [
    "## Homework Question 2"
   ]
  },
  {
   "cell_type": "code",
   "execution_count": 16,
   "id": "472ef3bc",
   "metadata": {},
   "outputs": [
    {
     "data": {
      "text/plain": [
       "array([[-2,  1],\n",
       "       [-5, -5],\n",
       "       [-2, -5],\n",
       "       [ 4,  0],\n",
       "       [-3, -2],\n",
       "       [-2, -4],\n",
       "       [-4, -1],\n",
       "       [-2, -4],\n",
       "       [-2,  2],\n",
       "       [ 2, -1]])"
      ]
     },
     "execution_count": 16,
     "metadata": {},
     "output_type": "execute_result"
    }
   ],
   "source": [
    "x = np.random.randint(-5, 5, (10, 2))\n",
    "x"
   ]
  },
  {
   "cell_type": "code",
   "execution_count": 17,
   "id": "98cc0776",
   "metadata": {},
   "outputs": [],
   "source": [
    "c1 = x[0,:]\n",
    "c2 = x[1,:]\n",
    "c3 = x[2,:]\n",
    "\n",
    "dist1 = c1 - x\n",
    "dist2 = c2 - x\n",
    "dist3 = c3 - x "
   ]
  },
  {
   "cell_type": "code",
   "execution_count": 18,
   "id": "91ef93c8",
   "metadata": {},
   "outputs": [],
   "source": [
    "k1 = la.norm(dist1, axis=1)\n",
    "k2 = la.norm(dist2, axis=1)\n",
    "k3 = la.norm(dist3, axis=1)"
   ]
  },
  {
   "cell_type": "code",
   "execution_count": 19,
   "id": "8266fa13",
   "metadata": {},
   "outputs": [
    {
     "data": {
      "text/plain": [
       "array([0, 1, 2, 0, 0, 2, 0, 2, 0, 0], dtype=int64)"
      ]
     },
     "execution_count": 19,
     "metadata": {},
     "output_type": "execute_result"
    }
   ],
   "source": [
    "clusters = np.argmin([k1, k2, k3], axis=0)\n",
    "\n",
    "clusters"
   ]
  },
  {
   "cell_type": "code",
   "execution_count": 20,
   "id": "90253fc0",
   "metadata": {},
   "outputs": [
    {
     "data": {
      "text/plain": [
       "[<matplotlib.lines.Line2D at 0x240880e08b0>]"
      ]
     },
     "execution_count": 20,
     "metadata": {},
     "output_type": "execute_result"
    },
    {
     "data": {
      "image/png": "[encoded data removed]",
      "text/plain": [
       "<Figure size 432x288 with 1 Axes>"
      ]
     },
     "metadata": {
      "needs_background": "light"
     },
     "output_type": "display_data"
    }
   ],
   "source": [
    "C1 = x[clusters==0]\n",
    "C2 = x[clusters==1]\n",
    "C3 = x[clusters==2]\n",
    "centroids = np.hstack([C1.T,C2.T,C3.T])\n",
    "plt.plot(centroids[:,0], centroids[:,1], 'yo', markersize = 8, label='Centroids')"
   ]
  },
  {
   "cell_type": "markdown",
   "id": "915057f4",
   "metadata": {},
   "source": [
    "## Homework Question 3"
   ]
  },
  {
   "cell_type": "code",
   "execution_count": 31,
   "id": "9b64f200",
   "metadata": {},
   "outputs": [],
   "source": [
    "x11 = np.random.standard_normal((200, 1)) * 1.2 + np.ones((200,1))-2\n",
    "x12 = np.random.standard_normal((200,1))*0.8 + np.ones((200,1))-2\n",
    "x1 = np.concatenate((x11, x12), axis=1)"
   ]
  },
  {
   "cell_type": "code",
   "execution_count": 32,
   "id": "e5ac0526",
   "metadata": {},
   "outputs": [
    {
     "data": {
      "text/plain": [
       "[<matplotlib.lines.Line2D at 0x240884851f0>]"
      ]
     },
     "execution_count": 32,
     "metadata": {},
     "output_type": "execute_result"
    },
    {
     "data": {
      "image/png": "[encoded data removed]",
      "text/plain": [
       "<Figure size 432x288 with 1 Axes>"
      ]
     },
     "metadata": {
      "needs_background": "light"
     },
     "output_type": "display_data"
    }
   ],
   "source": [
    "plt.plot(x[:, 0], x[:, 1], '*')"
   ]
  },
  {
   "cell_type": "code",
   "execution_count": 33,
   "id": "58f6ccfd",
   "metadata": {},
   "outputs": [],
   "source": [
    "x21 = np.random.standard_normal((200, 1)) * 0.9 + np.ones((200,1))\n",
    "x22 = np.random.standard_normal((200,1))*0.7 + np.ones((200,1))\n",
    "x2 = np.concatenate((x21, x22), axis=1)\n"
   ]
  },
  {
   "cell_type": "code",
   "execution_count": 34,
   "id": "ec47179d",
   "metadata": {},
   "outputs": [
    {
     "data": {
      "text/plain": [
       "[<matplotlib.lines.Line2D at 0x240884df760>]"
      ]
     },
     "execution_count": 34,
     "metadata": {},
     "output_type": "execute_result"
    },
    {
     "data": {
      "image/png": "[encoded data removed]",
      "text/plain": [
       "<Figure size 432x288 with 1 Axes>"
      ]
     },
     "metadata": {
      "needs_background": "light"
     },
     "output_type": "display_data"
    }
   ],
   "source": [
    "plt.plot(x[:, 0], x[:, 1], '*')"
   ]
  },
  {
   "cell_type": "code",
   "execution_count": 35,
   "id": "cae0e5a6",
   "metadata": {},
   "outputs": [],
   "source": [
    "x31 = np.random.standard_normal((200,1))*0.8+np.ones((200,1))+3\n",
    "x32 = np.random.standard_normal((200,1))*0.5+np.ones((200,1))+4\n",
    "x3 = np.concatenate((x31,x32), axis=1)"
   ]
  },
  {
   "cell_type": "code",
   "execution_count": 36,
   "id": "e2ff25c4",
   "metadata": {},
   "outputs": [
    {
     "data": {
      "text/plain": [
       "[<matplotlib.lines.Line2D at 0x2408853bbb0>]"
      ]
     },
     "execution_count": 36,
     "metadata": {},
     "output_type": "execute_result"
    },
    {
     "data": {
      "image/png": "[encoded data removed]",
      "text/plain": [
       "<Figure size 432x288 with 1 Axes>"
      ]
     },
     "metadata": {
      "needs_background": "light"
     },
     "output_type": "display_data"
    }
   ],
   "source": [
    "plt.plot(x[:, 0], x[:, 1], '*')"
   ]
  },
  {
   "cell_type": "code",
   "execution_count": 37,
   "id": "f6f9321a",
   "metadata": {},
   "outputs": [
    {
     "data": {
      "text/plain": [
       "[<matplotlib.lines.Line2D at 0x240885a93a0>]"
      ]
     },
     "execution_count": 37,
     "metadata": {},
     "output_type": "execute_result"
    },
    {
     "data": {
      "image/png": "[encoded data removed]",
      "text/plain": [
       "<Figure size 432x288 with 1 Axes>"
      ]
     },
     "metadata": {
      "needs_background": "light"
     },
     "output_type": "display_data"
    }
   ],
   "source": [
    "X = np.concatenate((x1, x2, x3), axis=0)\n",
    "plt.plot(X[0:200,0], X[0:200, 1], 'r*')\n",
    "plt.plot(X[200:400,0], X[200:400,1], 'g*')\n",
    "plt.plot(X[400:600,0], X[400:600, 1], 'b*')"
   ]
  },
  {
   "cell_type": "code",
   "execution_count": 40,
   "id": "4e9b8920",
   "metadata": {},
   "outputs": [
    {
     "ename": "TypeError",
     "evalue": "_sort_dispatcher() got an unexpected keyword argument 'replace'",
     "output_type": "error",
     "traceback": [
      "\u001b[1;31m---------------------------------------------------------------------------\u001b[0m",
      "\u001b[1;31mTypeError\u001b[0m                                 Traceback (most recent call last)",
      "\u001b[1;32m~\\AppData\\Local\\Temp/ipykernel_12432/3457681807.py\u001b[0m in \u001b[0;36m<module>\u001b[1;34m\u001b[0m\n\u001b[0;32m      3\u001b[0m \u001b[0mk\u001b[0m \u001b[1;33m=\u001b[0m \u001b[1;36m4\u001b[0m\u001b[1;33m\u001b[0m\u001b[1;33m\u001b[0m\u001b[0m\n\u001b[0;32m      4\u001b[0m \u001b[0mno_of_iterations\u001b[0m \u001b[1;33m=\u001b[0m \u001b[1;36m5\u001b[0m\u001b[1;33m\u001b[0m\u001b[1;33m\u001b[0m\u001b[0m\n\u001b[1;32m----> 5\u001b[1;33m \u001b[0midx\u001b[0m \u001b[1;33m=\u001b[0m \u001b[0mnp\u001b[0m\u001b[1;33m.\u001b[0m\u001b[0msort\u001b[0m\u001b[1;33m(\u001b[0m\u001b[0mnp\u001b[0m\u001b[1;33m.\u001b[0m\u001b[0mrandom\u001b[0m\u001b[1;33m.\u001b[0m\u001b[0mchoice\u001b[0m\u001b[1;33m(\u001b[0m\u001b[0mlen\u001b[0m\u001b[1;33m(\u001b[0m\u001b[0mx\u001b[0m\u001b[1;33m)\u001b[0m\u001b[1;33m)\u001b[0m\u001b[1;33m,\u001b[0m \u001b[0mk\u001b[0m\u001b[1;33m,\u001b[0m \u001b[0mreplace\u001b[0m\u001b[1;33m=\u001b[0m\u001b[1;32mFalse\u001b[0m\u001b[1;33m)\u001b[0m\u001b[1;33m\u001b[0m\u001b[1;33m\u001b[0m\u001b[0m\n\u001b[0m",
      "\u001b[1;32m<__array_function__ internals>\u001b[0m in \u001b[0;36msort\u001b[1;34m(*args, **kwargs)\u001b[0m\n",
      "\u001b[1;31mTypeError\u001b[0m: _sort_dispatcher() got an unexpected keyword argument 'replace'"
     ]
    }
   ],
   "source": [
    "from scipy.spatial.distance import euclidean as dist\n",
    "x = X\n",
    "k = 4\n",
    "no_of_iterations = 5\n",
    "idx = np.sort(np.random.choice(len(x)), k, replace=False)\n"
   ]
  },
  {
   "cell_type": "code",
   "execution_count": null,
   "id": "5d104901",
   "metadata": {},
   "outputs": [],
   "source": []
  }
 ],
 "metadata": {
  "kernelspec": {
   "display_name": "Python 3 (ipykernel)",
   "language": "python",
   "name": "python3"
  },
  "language_info": {
   "codemirror_mode": {
    "name": "ipython",
    "version": 3
   },
   "file_extension": ".py",
   "mimetype": "text/x-python",
   "name": "python",
   "nbconvert_exporter": "python",
   "pygments_lexer": "ipython3",
   "version": "3.8.12"
  }
 },
 "nbformat": 4,
 "nbformat_minor": 5
}
