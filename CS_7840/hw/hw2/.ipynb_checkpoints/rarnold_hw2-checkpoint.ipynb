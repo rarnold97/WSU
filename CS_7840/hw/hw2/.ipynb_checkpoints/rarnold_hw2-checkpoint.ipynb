{
 "cells": [
  {
   "cell_type": "code",
   "execution_count": null,
   "id": "f78c6d28-d8fa-4b94-b761-bd046b97fe0f",
   "metadata": {},
   "outputs": [],
   "source": [
    "# Topic: Neural Networks !"
   ]
  },
  {
   "cell_type": "code",
   "execution_count": 17,
   "id": "5cd94d48",
   "metadata": {},
   "outputs": [
    {
     "name": "stdout",
     "output_type": "stream",
     "text": [
      "imports successful!\n"
     ]
    }
   ],
   "source": [
    "import numpy as np \n",
    "import pandas as pd \n",
    "import matplotlib.pyplot as plt\n",
    "from mpl_toolkits import mplot3d\n",
    "from sklearn import datasets\n",
    "from sklearn.metrics import accuracy_score\n",
    "from sklearn.model_selection import train_test_split\n",
    "from typing import Union, Callable, List\n",
    "import random\n",
    "from itertools import compress\n",
    "import numpy as np \n",
    "import time\n",
    "from apyori import apriori\n",
    "from sklearn import tree\n",
    "\n",
    "print(\"imports successful!\")"
   ]
  },
  {
   "cell_type": "code",
   "execution_count": 14,
   "id": "f77ffdf1",
   "metadata": {},
   "outputs": [],
   "source": [
    "def load_iris(test_split:float =0.2):\n",
    "    iris=datasets.load_iris()\n",
    "\n",
    "    x = iris.data\n",
    "    y = iris.target\n",
    "\n",
    "    x_train, x_test, y_train, y_test = train_test_split(x,y,test_size=test_split)\n",
    "    return x_train, x_test, y_train, y_test"
   ]
  },
  {
   "cell_type": "code",
   "execution_count": 2,
   "id": "856950ce",
   "metadata": {},
   "outputs": [],
   "source": [
    "class Perceptron:\n",
    "    \n",
    "    def __init__(self, learning_rate=0.1):\n",
    "        \n",
    "        self.learning_rate = learning_rate\n",
    "        self._b = 0.0\n",
    "        self._w = None\n",
    "        self.misclassified_samples = []\n",
    "        \n",
    "    def fit(self, x: np.array, y: np.array, n_iter=10):\n",
    "        self._b = 0.0\n",
    "        self._w = np.zeros(x.shape[1])\n",
    "        self.misclassified_samples = []\n",
    "        \n",
    "        for _ in range(n_iter):\n",
    "            \n",
    "            errors = 0\n",
    "        \n",
    "            for xi, yi in zip(x, y):\n",
    "                update = self.learning_rate * (yi - self.predict(xi))\n",
    "                self._b += update\n",
    "                self._w += update * xi\n",
    "                errors += int(update != 0.0)\n",
    "\n",
    "            self.misclassified_samples.append(errors)\n",
    "        \n",
    "    def f(self, x: np.array) -> float: \n",
    "        \n",
    "        return np.dot(x, self._w) + self._b\n",
    "    \n",
    "    def predict(self, x:np.array):\n",
    "        \n",
    "        return np.where(self.f(x) >= 0, 1, -1)"
   ]
  },
  {
   "cell_type": "code",
   "execution_count": 3,
   "id": "18ef5a86",
   "metadata": {},
   "outputs": [],
   "source": [
    "iris=datasets.load_iris()\n",
    "\n",
    "x = iris.data\n",
    "y = iris.target\n",
    "\n",
    "x_train, x_test, y_train, y_test = train_test_split(x,y,test_size=0.5)\n",
    "classifier = Perceptron(learning_rate=0.01)"
   ]
  },
  {
   "cell_type": "code",
   "execution_count": 4,
   "id": "5f21c46f",
   "metadata": {},
   "outputs": [],
   "source": [
    "classifier.fit(x_train, y_train)\n",
    "\n",
    "predictions = classifier.predict(x_test)"
   ]
  },
  {
   "cell_type": "code",
   "execution_count": 6,
   "id": "b3cf5a12",
   "metadata": {},
   "outputs": [
    {
     "name": "stdout",
     "output_type": "stream",
     "text": [
      "0.36\n"
     ]
    }
   ],
   "source": [
    "print(accuracy_score(y_test, predictions))"
   ]
  },
  {
   "cell_type": "markdown",
   "id": "6ddfbb4b-13f5-4e07-9a12-51134cab646f",
   "metadata": {},
   "source": [
    "## Question 2 "
   ]
  },
  {
   "cell_type": "code",
   "execution_count": 1,
   "id": "44146517-73a5-4829-93b1-09c23640a261",
   "metadata": {},
   "outputs": [],
   "source": [
    "class ActivationFunction:\n",
    "    sigmoid = lambda x: 1 / (1+np.exp(-x)) \n",
    "    relu = lambda x: x * (x>0)\n",
    "    leaky_relu = lambda x: x * (x>0) + 0.1 * (x<=0)\n",
    "    tanh = lambda x: np.tanh(x)\n",
    "    \n",
    "    sigmoid_deriv = lambda x: x*(1-x)\n",
    "    relu_deriv = lambda x: float(x >= 0)\n",
    "    relu_leaky_deriv = lambda x: 0.1 * (x<0) + (x>=0)\n",
    "    tanh_deriv = lambda x: 1 - np.square(ActivationFunction.tanh(x))\n",
    "    \n",
    "    def __init__self(self, x = None):\n",
    "        self.x = x "
   ]
  },
  {
   "cell_type": "code",
   "execution_count": 20,
   "id": "f4e6be71-40a8-49f1-a3e4-838511bc49ef",
   "metadata": {},
   "outputs": [],
   "source": [
    "class dotdict(dict):\n",
    "    \"\"\"dot.notation access to dictionary attributes\"\"\"\n",
    "    __getattr__ = dict.get\n",
    "    __setattr__ = dict.__setitem__\n",
    "    __delattr__ = dict.__delitem__\n",
    "\n",
    "    \n",
    "def has_length(obj):\n",
    "    return isinstance(obj, list) or isinstance(obj, tuple) or isinstance(obj, np.ndarray)\n",
    "    \n",
    "    \n",
    "def get_default_params():\n",
    "    \n",
    "    params = {\n",
    "        \"learning_rate\": 0.05,\n",
    "        \"act_fun\" : ActivationFunction.leaky_relu,\n",
    "        \"act_fun_deriv\": ActivationFunction.relu_leaky_deriv,\n",
    "        \"depth\": 2,\n",
    "        \"input_drop_rate\" : 0.2, \n",
    "        \"hidden_layer_drop_rate\": 0.05,\n",
    "        \"n_elements_input\": 4, # should be the number of components or elements in the input layer (i.e., pixel, component, etc.)\n",
    "        \"n_neurons_hidden\": 5,\n",
    "        \"n_neurons_output\": 3, # this should be the number of classifieers in classification network\n",
    "        \"max_epochs\": 20,\n",
    "        \"hiddenValueBias\": -1,\n",
    "        \"outputValueBias\": -1,\n",
    "        \"momentum\" : 1.0\n",
    "    }\n",
    "    \n",
    "    return dotdict(params) \n",
    "\n",
    "\n",
    "class MultiLayerPerceptron:\n",
    "    \n",
    "    def __init__(self,\n",
    "                 params_in = None\n",
    "                 ):        \n",
    "        \n",
    "        params = get_default_params() if params_in is None else params_in\n",
    "        \n",
    "        self.learning_rate = params.learning_rate\n",
    "        self.depth = params.depth\n",
    "        self.momentum = params.momentum\n",
    "        \n",
    "        self.act_fun = params.act_fun\n",
    "        self.act_fun_deriv = params.act_fun_deriv\n",
    "        \n",
    "        self.input_drop_rate = params.input_drop_rate\n",
    "        self.hidden_layer_drop_rate = params.hidden_layer_drop_rate\n",
    "        \n",
    "        self.n_elements_input = params.n_elements_input\n",
    "        self.n_neurons_hidden = params.n_neurons_hidden\n",
    "        \n",
    "        # this should equal the number of distinct classifiers\n",
    "        self.n_neurons_output = params.n_neurons_output\n",
    "        \n",
    "        # this could be changed for non classifier networks\n",
    "        self.n_classes = self.n_neurons_output\n",
    "        \n",
    "        self.max_epochs = params.max_epochs\n",
    "        \n",
    "        self.hiddenValueBias = params.hiddenValueBias\n",
    "        self.outputValueBias = params.outputValueBias \n",
    "        \n",
    "        # error checking\n",
    "        n_funs = 1 if not has_length(params.act_fun) else len(params.act_fun)\n",
    "        n_derivs = 1 if not has_length(params.act_fun_deriv) else len(params.act_fun_deriv)\n",
    "        \n",
    "        if n_funs != n_derivs:\n",
    "            raise ValueError('Pass in an equal number of derivatives to correspond to each activation function!')\n",
    "        \n",
    "        # SET ACTIVATION FUNCTIONS\n",
    "        ################################################################\n",
    "        if n_funs != self.depth or n_funs == 1:\n",
    "            if n_funs == 1:\n",
    "                self.act_fun = [params.act_fun for _ in range(depth) ] \n",
    "                self.act_fun_deriv = [params.act_fun_deriv for _ in range(depth) ] \n",
    "            else:\n",
    "                raise ValueError('Enter activation functions for each layer if not using a function uniformly')\n",
    "        else:\n",
    "            self.act_fun = params.act_fun\n",
    "            self.act_fun_deriv = params.act_fun_deriv\n",
    "            \n",
    "        ################################################################\n",
    "        \n",
    "        # SET THE WEIGHTS\n",
    "        ################################################################\n",
    "        self.WEIGHTS_HIDDEN = []\n",
    "        \n",
    "        for k in range(self.depth):\n",
    "            if k == 0:\n",
    "                # dealing with the input signal here\n",
    "                self.WEIGHTS_HIDDEN.append(self.init_starting_weights(self.n_neurons_hidden, self.n_elements_input))\n",
    "            else: #connects to the input layer\n",
    "                self.WEIGHTS_HIDDEN.append(self.init_starting_weights(self.n_neurons_hidden, self.n_neurons_hidden))\n",
    "        \n",
    "        self.WEIGHTS_OUTPUT = self.init_starting_weights(self.n_neurons_output, self.n_neurons_hidden)\n",
    "        ################################################################\n",
    "        \n",
    "        # SET THE BIASES\n",
    "        ################################################################\n",
    "        self.BIAS_hidden = []\n",
    "        for k in range(self.depth):\n",
    "            self.BIAS_hidden.append(np.array([self.hiddenValueBias for i in range(self.n_neurons_hidden)]))\n",
    "            \n",
    "        self.BIAS_output = np.array([self.outputValueBias for i in range(self.n_neurons_output)])\n",
    "        ################################################################\n",
    "        \n",
    "        # pre initialize the layer outputs \n",
    "        self.OUTPUT_HIDDEN = []\n",
    "        self.OUTPUT_OUTPUT_LAYER = None\n",
    "        \n",
    "        # error related terms\n",
    "        self.total_error = float(0)\n",
    "        \n",
    "        \n",
    "        # output summary stuff\n",
    "        self.error_array = []\n",
    "        self.epoch_array = []\n",
    "        \n",
    "        self.W_Hidden_collection = []\n",
    "        self.W_outputs= []\n",
    "        \n",
    "        self.hidden_mask = [np.ones(self.n_neurons_hidden) > 0 for _ in range(self.depth)]\n",
    "        self.input_mask = np.ones(self.n_elements_input) > 0\n",
    "        \n",
    "            \n",
    "    def _getInputLayerDropMask(self):\n",
    "                                \n",
    "        mask = np.random.binomial(1, self.input_layer_drop_rate, self.n_elements_input).astype(int)\n",
    "        return mask > 0 \n",
    "        \n",
    "    def _getHiddenLayerDropMask(self):\n",
    "        \n",
    "        mask = np.random.binomial(1, self.hidden_layer_drop_rate, self.n_neurons_hidden).astype(int)\n",
    "        return mask > 0\n",
    "                                                      \n",
    "    def init_starting_weights(self, n_outputs, n_inputs):\n",
    "        return [[2 * random.random() - 1 for i in range(n_outputs)] for j in range(n_inputs)]\n",
    "    \n",
    "    def _get_petals_desired(y):\n",
    "        \n",
    "        output = np.zeros(self.n_classes)\n",
    "        \n",
    "        if y == 0:\n",
    "            output = np.array([1,0,0])\n",
    "        elif y == 1:\n",
    "            output = np.array([0,1,0])\n",
    "        elif y == 2:\n",
    "            output = np.array([0,0,1])\n",
    "            \n",
    "        return output\n",
    "    \n",
    "    def show_err_graphic(self, v_erro, v_epoca):\n",
    "        plt.figure(figsize=(9,4))\n",
    "        plt.plot(v_epoca, v_erro, \"m-\", color=\"b\", marker=11)\n",
    "        plt.xlabel(\"Number of Epochs\")\n",
    "        plt.ylabel(\"Squared Error (MSE) \")\n",
    "        plt.title(\"Error Minimization\")\n",
    "        plt.show()\n",
    "        \n",
    "    def _prop_forward(self, x_element):\n",
    "            \n",
    "        # this is kind of hard coded for classifier network, but that will suffice for the homework\n",
    "        self.output = np.zeros(self.n_neurons_output)\n",
    "        \n",
    "        # weights applied to the input layer are the first element of the hidden weights\n",
    "        \n",
    "        # drop the input layer components as deemed neccessary\n",
    "        input_dropped = list(compress(x_element, self.input_mask))\n",
    "        weights_input_dropped = list(compress(self.WEIGHTS_hidden[0], self.input_mask))\n",
    "        bias_input_dropped = list(compress(self.BIAS_hidden[0], self.input_mask))\n",
    "        \n",
    "        # we also need to drop the first hidden layer in addition to any input layer drops\n",
    "        weights_dropped = [list(compress(weight_set, self.hidden_mask[0])) for weight_set in weights_input_dropped]\n",
    "        bias_dropped = [list(compress(bias_set, self.hidden_mask[0])) for bias_set in bias_input_dropped]\n",
    "        \n",
    "        induced_field_L1 = np.dot(input_dropped, weights_dropped) + bias_dropped.T\n",
    "        self.OUTPUT_HIDDEN.append(self.act_fun[0](induced_field_L1))\n",
    "\n",
    "        # now we iterate through all the hidden layers \n",
    "        induced_field_hidden: np.ndarray = None\n",
    "        tmp_inputs = self.OUTPUT_HIDDEN[-1]\n",
    "        \n",
    "        # only drop the inputs once to account for the hidden layer mask \n",
    "        tmp_inputs = list(compress(tmp_inputs, self.hidden_mask[0]))\n",
    "\n",
    "        # handle all the between neurons\n",
    "        for k in range(1, self.depth-1):\n",
    "            \n",
    "            dropped_bias = list(compress(self.BIAS_hidden[k], self.hidden_mask[k]))\n",
    "            dropped_weights = list(compress(self.WEIGHTS_hidden[k], self.hidden_mask[k]))\n",
    "            \n",
    "            induced_field_hidden = np.dot(tmp_inputs, dropped_weights) + dropped_bias.T\n",
    "            self.OUTPUT_HIDDEN.append(self.act_fun[1](induced_field_hidden))\n",
    "            tmp_inputs = self.OUTPUT_HIDDEN[-1]\n",
    "\n",
    "\n",
    "        # now we do computation on the output layer \n",
    "        dropped_output_weights = list(compress(self.WEIGHTS_OUTPUT, self.hidden_mask))\n",
    "        dropped_output_bias = list(compress(self.BIAS_output, self.hidden_mask))\n",
    "        \n",
    "        output_layer_field = np.dot(tmp_inputs, self.WEIGHTS_OUTPUT) + self.BIAS_output.T\n",
    "        self.OUTPUT_OUTPUT_LAYER = self.act_fun[-1](output_layer_field)\n",
    "            \n",
    "    def _calc_error_energy(self):\n",
    "        \n",
    "        square_error = 0\n",
    "        \n",
    "        for i in range(self.n_neurons_output):\n",
    "            \n",
    "            erro = np.square(self.output[i] - self.OUTPUT_OUTPUT_LAYER[i])\n",
    "            square_error = (square_error + (0.5*erro))\n",
    "        \n",
    "        return square_error\n",
    "        \n",
    "    def Backpropagation(self, x):\n",
    "        \n",
    "        DELTA_output = []\n",
    "        \n",
    "        # stage 1 - Error: Output layer\n",
    "        ERROR_output = self.output - self.OUTPUT_OUTPUT_LAYER\n",
    "        DELTA_output = ((-1)*(ERROR_output) * self.act_fun_deriv[-1](self.OUTPUT_OUTPUT_LAYER))\n",
    "        \n",
    "        arrayStore = []\n",
    "        \n",
    "        # Stage 2 - update the weights for the layers\n",
    "        for i in range(self.n_neurons_hidden):\n",
    "            if self.hidden_mask[-1][i]:\n",
    "                for j in range(self.n_neurons_output):\n",
    "                    self.WEIGHTS_OUTPUT[i][j] = self.momentum * self.WEIGHTS_OUTPUT[i][j] - (self.learningRate * (DELTA_output[j] * self.OUTPUT_HIDDEN[-1][i]))\n",
    "                    self.BIAS_output[j] -= (self.learningRate * DELTA_output[j])\n",
    "            \n",
    "        # the k index here represents the hidden layer number \n",
    "        delta_hidden = DELTA_output\n",
    "        weights_prev = self.WEIGHTS_OUTPUT\n",
    "        \n",
    "        # update the hidden layers\n",
    "        for k in range(self.depth-2, 0, -1):\n",
    "            \n",
    "            delta_hidden = np.matmul(weights_prev, delta_hidden) * self.act_fun_deriv[k](self.OUTPUT_HIDDEN[k])\n",
    "            for i in range(self.n_neurons_hiddnen): # what comes in (left->right)\n",
    "                if self.hidden_mask[k-1][i]:\n",
    "                    for j in range(self.n_neurons_hidden): # what comes out  (left->right)\n",
    "                        if self.hidden_mask[k][j]:\n",
    "                            self.WEIGHTS_HIDDEN[k][i][j] = self.momentum*self.WEIGHTS_HIDDEN[k][i][j] - (self.learningRate * (delta_hidden[j] * self.OUTPUT_HIDDEN[k-1]))\n",
    "                            self.BIAS_hidden[k][j] -= (self.learningRate*delta_hidden[j])\n",
    "                                                     \n",
    "            weights_prev = self.WEIGHTS_HIDDEN[k]\n",
    "        \n",
    "        # update the input layer in the first hidden layer\n",
    "        delta_hidden = np.matmul(self.WEIGHTS_HIDDEN[0], delta_hidden) * self.act_fun_deriv[0](self.OUTPUT_HIDDEN[0])\n",
    "        for i in range(self.n_elements_input):\n",
    "            if self.input_mask[i]:\n",
    "                for j in range(self.n_neurons_hidden):\n",
    "                    if self.hidden_mask[0][j]:\n",
    "                        self.WEIGHTS_HIDDEN[0][i][j] = self.momentum * self.WEIGHTS_HIDDEN[0][i][j]  - (self.learningRate * (delta_hidden * x[i]))\n",
    "                        self.BIAS_hidden[0][j] -= (self.learningRate * delta_hidden[j])\n",
    "                \n",
    "    \n",
    "    def fit(self, X, y):\n",
    "        \n",
    "        total_error = 0\n",
    "        n = len(X)\n",
    "             \n",
    "        self.error_array.clear()\n",
    "        self.epoch_array.clear()\n",
    "        \n",
    "        self.W_Hidden_collection.clear()\n",
    "        self.W_outputs.clear()\n",
    "        \n",
    "        for epoch in range(self.max_epochs): \n",
    "            \n",
    "            # update the masks upon each epoch to make the drop truly stochastic \n",
    "            self.input_mask = self._getInputLayerDropMask()\n",
    "            self.hidden_mask = [self._getHiddenLayerDropMask() for i in range(self.depth)]\n",
    "            \n",
    "            for idx, inputs in enumerate(X):\n",
    "                \n",
    "                self._prop_forward(inputs)\n",
    "                self.output = self._get_petals_desired(y[idx])\n",
    "                total_error = total_error + self._calc_error_energy()\n",
    "                \n",
    "                # update the weights via back propagation\n",
    "                self.Backpropagation(inputs)\n",
    "                \n",
    "            total_error = (total_error/n)\n",
    "            \n",
    "            if (epoch % 10 == 0) or epoch < 10:\n",
    "                print(\"Epoch: \", epoch, \"- Total Error: \", total_error)\n",
    "                self.error_array.append(total_error)\n",
    "                self.epoch_array.append(epoch)\n",
    "                \n",
    "            self.W_Hidden_collection.append(self.WEIGHTS_HIDDEN)\n",
    "            self.W_outputs.append(self.WEIGHTS_OUPTUT)\n",
    "            \n",
    "        self.show_err_graphic(self.error_array, self.epoch_array)\n",
    "        self.plot_summary()\n",
    "            \n",
    "                \n",
    "                \n",
    "    def plot_summary(self):\n",
    "        \n",
    "        for k in range(self.depth-1):\n",
    "            plt.plot(self.W_Hidden_collection[k][0])\n",
    "            plt.title(\"Weights at from training at hidden layer \" + str(k+1))\n",
    "            plt.ylabel(\"Value Weight\")\n",
    "            plt.legend([\"neruon \"+str(i+1) for i in range(self.n_neurons_hidden)])\n",
    "            plt.show()  \n",
    "        \n",
    "        plt.plot(self.W_outputs[0])\n",
    "        plt.set_title(\"Weights Output Layer from training\")\n",
    "        plt.set_ylabel(\"Value Weight\")\n",
    "        plt.legend([\"neruon \"+str(i+1) for i in range(self.n_neurons_output)])\n",
    "        plt.show()\n",
    "        \n",
    "        \n",
    "    def predict(self, X, y):\n",
    "        'Returns the predictions for all the elements in the set X'\n",
    "        my_predictions = []\n",
    "        \n",
    "        'Forward Propagation'\n",
    "        forward = np.matmul(X, self.WEIGHT_hideen) + self.BIAS_hidden\n",
    "        forward = np.matmul(forward, self.WEIGHT_output) + self.BIAS_output"
   ]
  },
  {
   "cell_type": "markdown",
   "id": "d9a4425c-c057-4fe6-b77c-7dfd970e9b98",
   "metadata": {},
   "source": [
    "### Tensorflow Approach"
   ]
  },
  {
   "cell_type": "code",
   "execution_count": 21,
   "id": "c35084bf-5a38-4c10-a724-1101c2673df0",
   "metadata": {},
   "outputs": [],
   "source": [
    "import tensorflow as tf \n",
    "from tensorflow.keras.models import Sequential\n",
    "from tensorflow.keras.layers import Dense\n",
    "from tensorflow.keras.layers import Dropout\n",
    "from tensorflow.keras.layers import LeakyReLU\n",
    "from keras.optimizers import SGD\n",
    "from sklearn.model_selection import cross_val_score\n",
    "from sklearn.metrics import confusion_matrix\n",
    "\n",
    "\n",
    "def build_mlp_sklearn(params: dict, dense_fun: str = \"leaky\"):\n",
    "    \n",
    "    # create model\n",
    "    # start with input layer\n",
    "    model = Sequential()\n",
    "    model.add(Dropout(params.input_drop_rate, input_shape=(params.n_elements_input,)))\n",
    "    \n",
    "    # add the hidden layers , assuming the output layer counts as part of the depth\n",
    "    if dense_fun == \"leaky\":\n",
    "        act_fun = tf.keras.layers.LeakyReLU(alpha=0.01)\n",
    "    elif dense_fun == \"relu\":\n",
    "        act_fun = dense_fun\n",
    "    elif dense_fun == \"sigmoid\":\n",
    "        act_fun = dense_fun\n",
    "    else:\n",
    "        raise ValueError('Enter a proper activation function ...')\n",
    "        \n",
    "    for i in range(params.depth - 1):\n",
    "        model.add(Dense(params.n_neurons_hidden, activation=act_fun))\n",
    "        model.add(Dropout(params.hidden_drop_rate))\n",
    "        \n",
    "    # add the output layer, using softmax\n",
    "    model.add(Dense(3, activation='softmax'))\n",
    "    \n",
    "    #Compile model \n",
    "    sgd = SGD(lr=params.learning_rate, momentum = params.momentum)\n",
    "    model.compile(loss='sparse_categorical_crossentropy', optimizer = sgd, metrics = ['accuracy'])\n",
    "    return model \n",
    "    "
   ]
  },
  {
   "cell_type": "markdown",
   "id": "d50f9a2a-7bce-4b17-ab47-b51582bae5e9",
   "metadata": {},
   "source": [
    "### Loading IRIS Dataset"
   ]
  },
  {
   "cell_type": "code",
   "execution_count": 22,
   "id": "e9798a49-4c93-47e8-9134-fd8f2510ac83",
   "metadata": {},
   "outputs": [],
   "source": [
    "# load IRIS Dataset\n",
    "from sklearn.model_selection import train_test_split\n",
    "from sklearn import datasets\n",
    "from sklearn.preprocessing import StandardScaler\n",
    "\n",
    "iris=datasets.load_iris()\n",
    "\n",
    "x = iris.data\n",
    "y = iris.target\n",
    "\n",
    "x_train, x_test, y_train, y_test = train_test_split(x,y,test_size=0.2)\n",
    "\n",
    "# normalize the data \n",
    "x_train = StandardScaler().fit_transform(x_train)\n",
    "x_test = StandardScaler().fit_transform(x_test)"
   ]
  },
  {
   "cell_type": "markdown",
   "id": "eea268c9-15f1-4d4a-a62f-55350977519c",
   "metadata": {},
   "source": [
    "### Part a"
   ]
  },
  {
   "cell_type": "code",
   "execution_count": null,
   "id": "be5204d9-e005-4bd3-bb98-fa942ca82e5e",
   "metadata": {},
   "outputs": [],
   "source": [
    "params = get_default_params()\n",
    "params.depth = 2\n",
    "\n",
    "mlp = build_mlp_sklearn(params, \"leaky\")\n",
    "mlp.fit(x_train, y_train, epochs = params.max_epochs)\n",
    "test_predictions = model.predict(x_test)\n",
    "\n",
    "confusion = confusion_matrix(y_test, np.argmax(test_predictions, axis=1))\n",
    "confusion"
   ]
  },
  {
   "cell_type": "markdown",
   "id": "ce753b25-75ef-47bf-9dba-bde9ae3227aa",
   "metadata": {},
   "source": [
    "### Part b"
   ]
  },
  {
   "cell_type": "code",
   "execution_count": null,
   "id": "f6929797-dc42-4d10-8f8a-7d315983dfea",
   "metadata": {},
   "outputs": [],
   "source": [
    "params = get_default_params()\n",
    "params.depth = 2\n",
    "\n",
    "input_var = T.tensor4('inputs')\n",
    "target_var = T.ivector('targets')\n",
    "\n",
    "mlp_model_b = build_mlp_lasagne(params, len(x_train), \"sigmoid\", input_var = input_var)\n",
    "\n"
   ]
  },
  {
   "cell_type": "markdown",
   "id": "0a036cde-36cd-4406-9433-2d8b56fd65de",
   "metadata": {},
   "source": [
    "### Parb c"
   ]
  },
  {
   "cell_type": "code",
   "execution_count": null,
   "id": "0700201e-c896-4e08-9372-8cba5d40287e",
   "metadata": {},
   "outputs": [],
   "source": [
    "params.depth = 4\n",
    "mlp_model_c = build_mlp_lasagne(params, len(x_train), \"leaky\")"
   ]
  },
  {
   "cell_type": "code",
   "execution_count": 8,
   "id": "5ba413a0",
   "metadata": {},
   "outputs": [
    {
     "name": "stdout",
     "output_type": "stream",
     "text": [
      "[[5.  3.5 1.3 0.3]\n",
      " [5.6 3.  4.5 1.5]\n",
      " [5.9 3.2 4.8 1.8]\n",
      " [7.2 3.  5.8 1.6]\n",
      " [5.4 3.9 1.7 0.4]\n",
      " [6.1 2.9 4.7 1.4]\n",
      " [6.2 2.9 4.3 1.3]\n",
      " [5.  3.5 1.6 0.6]\n",
      " [5.6 2.9 3.6 1.3]\n",
      " [4.8 3.4 1.6 0.2]\n",
      " [7.7 3.  6.1 2.3]\n",
      " [5.7 3.8 1.7 0.3]\n",
      " [4.9 3.1 1.5 0.2]\n",
      " [5.9 3.  4.2 1.5]\n",
      " [5.4 3.4 1.5 0.4]\n",
      " [5.5 2.4 3.7 1. ]\n",
      " [5.8 4.  1.2 0.2]\n",
      " [6.4 2.8 5.6 2.1]\n",
      " [5.  3.  1.6 0.2]\n",
      " [5.5 2.3 4.  1.3]\n",
      " [5.7 2.6 3.5 1. ]\n",
      " [6.7 3.1 4.7 1.5]\n",
      " [5.7 3.  4.2 1.2]\n",
      " [5.4 3.9 1.3 0.4]\n",
      " [5.4 3.7 1.5 0.2]\n",
      " [5.2 2.7 3.9 1.4]\n",
      " [4.4 3.2 1.3 0.2]\n",
      " [6.2 2.2 4.5 1.5]\n",
      " [6.3 2.5 4.9 1.5]\n",
      " [6.5 3.2 5.1 2. ]\n",
      " [6.7 3.1 4.4 1.4]\n",
      " [5.2 3.4 1.4 0.2]\n",
      " [6.1 3.  4.9 1.8]\n",
      " [7.2 3.6 6.1 2.5]\n",
      " [5.1 3.7 1.5 0.4]\n",
      " [5.1 3.5 1.4 0.2]\n",
      " [5.6 2.8 4.9 2. ]\n",
      " [6.4 3.1 5.5 1.8]\n",
      " [5.5 2.4 3.8 1.1]\n",
      " [6.8 3.2 5.9 2.3]\n",
      " [4.5 2.3 1.3 0.3]\n",
      " [4.7 3.2 1.3 0.2]\n",
      " [6.2 2.8 4.8 1.8]\n",
      " [6.1 3.  4.6 1.4]\n",
      " [5.1 3.8 1.9 0.4]\n",
      " [5.6 2.5 3.9 1.1]\n",
      " [4.8 3.  1.4 0.1]\n",
      " [7.2 3.2 6.  1.8]\n",
      " [6.3 3.3 4.7 1.6]\n",
      " [7.3 2.9 6.3 1.8]\n",
      " [6.4 2.8 5.6 2.2]\n",
      " [5.7 2.5 5.  2. ]\n",
      " [6.  2.7 5.1 1.6]\n",
      " [6.7 3.3 5.7 2.1]\n",
      " [4.4 3.  1.3 0.2]\n",
      " [6.4 2.7 5.3 1.9]\n",
      " [4.9 3.1 1.5 0.1]\n",
      " [4.6 3.1 1.5 0.2]\n",
      " [6.8 3.  5.5 2.1]\n",
      " [4.4 2.9 1.4 0.2]\n",
      " [6.7 2.5 5.8 1.8]\n",
      " [5.5 4.2 1.4 0.2]\n",
      " [5.2 4.1 1.5 0.1]\n",
      " [4.3 3.  1.1 0.1]\n",
      " [6.4 3.2 4.5 1.5]\n",
      " [6.7 3.1 5.6 2.4]\n",
      " [6.3 3.4 5.6 2.4]\n",
      " [6.  2.2 4.  1. ]\n",
      " [6.  2.9 4.5 1.5]\n",
      " [5.  3.4 1.5 0.2]\n",
      " [5.2 3.5 1.5 0.2]\n",
      " [5.  2.3 3.3 1. ]\n",
      " [4.6 3.2 1.4 0.2]\n",
      " [6.9 3.2 5.7 2.3]\n",
      " [6.3 2.8 5.1 1.5]]\n",
      "[0 2 0 1 0 2 1 0 1 2 1 1 1 2 2 2 1 0 2 2 0 1 1 0 2 2 0 2 2 2 1 2 2 0 2 0 2\n",
      " 1 1 1 2 1 0 1 0 1 0 1 2 2 1 1 2 1 0 0 2 2 0 1 2 1 0 0 1 1 2 1 0 0 2 0 2 2\n",
      " 1]\n"
     ]
    },
    {
     "data": {
      "image/png": "[encoded data removed]",
      "text/plain": [
       "<Figure size 432x288 with 1 Axes>"
      ]
     },
     "metadata": {
      "needs_background": "light"
     },
     "output_type": "display_data"
    }
   ],
   "source": [
    "from sklearn import datasets\n",
    "\n",
    "iris = datasets.load_iris()\n",
    "\n",
    "x = iris.data\n",
    "y = iris.target\n",
    "\n",
    "from sklearn.model_selection import train_test_split\n",
    "\n",
    "x_train, x_test, y_train, y_test = train_test_split(x, y, test_size=0.5)\n",
    "classifier = Perceptron(learning_rate=0.01)\n",
    "\n",
    "#display x_test\n",
    "print(x_train)\n",
    "\n",
    "print(y_test)\n",
    "\n",
    "fig = plt.plot\n",
    "ax = plt.axes(projection='3d')\n",
    "ax.set_title('Iris data set')\n",
    "ax.set_xlabel('Sepal length (cm)')\n",
    "ax.set_ylabel('Sepal width (cm)')\n",
    "ax.set_zlabel('Petal Length (cm)')\n",
    "\n",
    "ax.scatter(x[:50, 0], x[:50, 1], x[:50, 2], color='red',\n",
    "           marker='o', s=4, label=\"Iris Setosa\")\n",
    "ax.scatter(x[50:100, 0], x[50:100, 1], x[50:100, 2], color='blue',\n",
    "           marker='^', s=4, label=\"Iris Versicolour\")\n",
    "ax.scatter(x[100:150, 0], x[100:150, 1], x[100:150, 2], color='green',\n",
    "           marker='x', s=4, label=\"Iris Virginica\")\n",
    "\n",
    "plt.legend(loc='upper left')\n",
    "plt.show()"
   ]
  },
  {
   "cell_type": "markdown",
   "id": "8683fe37",
   "metadata": {},
   "source": [
    "## Question 3"
   ]
  },
  {
   "cell_type": "markdown",
   "id": "2ce6c13c",
   "metadata": {},
   "source": [
    "### Part a "
   ]
  },
  {
   "cell_type": "code",
   "execution_count": 10,
   "id": "50a7474e",
   "metadata": {},
   "outputs": [
    {
     "ename": "NameError",
     "evalue": "name 'time' is not defined",
     "output_type": "error",
     "traceback": [
      "\u001b[1;31m---------------------------------------------------------------------------\u001b[0m",
      "\u001b[1;31mNameError\u001b[0m                                 Traceback (most recent call last)",
      "\u001b[1;32m~\\AppData\\Local\\Temp/ipykernel_19012/2437287365.py\u001b[0m in \u001b[0;36m<module>\u001b[1;34m\u001b[0m\n\u001b[0;32m      5\u001b[0m \u001b[0mrecords\u001b[0m \u001b[1;33m=\u001b[0m \u001b[1;33m[\u001b[0m\u001b[1;33m]\u001b[0m\u001b[1;33m\u001b[0m\u001b[1;33m\u001b[0m\u001b[0m\n\u001b[0;32m      6\u001b[0m \u001b[1;33m\u001b[0m\u001b[0m\n\u001b[1;32m----> 7\u001b[1;33m \u001b[0mstart_time\u001b[0m \u001b[1;33m=\u001b[0m \u001b[0mtime\u001b[0m\u001b[1;33m.\u001b[0m\u001b[0mtime\u001b[0m\u001b[1;33m(\u001b[0m\u001b[1;33m)\u001b[0m\u001b[1;33m\u001b[0m\u001b[1;33m\u001b[0m\u001b[0m\n\u001b[0m\u001b[0;32m      8\u001b[0m \u001b[1;32mfor\u001b[0m \u001b[0mi\u001b[0m \u001b[1;32min\u001b[0m \u001b[0mrange\u001b[0m\u001b[1;33m(\u001b[0m\u001b[1;36m7500\u001b[0m\u001b[1;33m)\u001b[0m\u001b[1;33m:\u001b[0m\u001b[1;33m\u001b[0m\u001b[1;33m\u001b[0m\u001b[0m\n\u001b[0;32m      9\u001b[0m     \u001b[0mrecords\u001b[0m\u001b[1;33m.\u001b[0m\u001b[0mappend\u001b[0m\u001b[1;33m(\u001b[0m\u001b[1;33m[\u001b[0m\u001b[0mstr\u001b[0m\u001b[1;33m(\u001b[0m\u001b[0mstore_data\u001b[0m\u001b[1;33m.\u001b[0m\u001b[0mvalues\u001b[0m\u001b[1;33m[\u001b[0m\u001b[0mi\u001b[0m\u001b[1;33m,\u001b[0m\u001b[0mj\u001b[0m\u001b[1;33m]\u001b[0m\u001b[1;33m)\u001b[0m \u001b[1;32mfor\u001b[0m \u001b[0mj\u001b[0m \u001b[1;32min\u001b[0m \u001b[0mrange\u001b[0m\u001b[1;33m(\u001b[0m\u001b[1;36m20\u001b[0m\u001b[1;33m)\u001b[0m\u001b[1;33m]\u001b[0m\u001b[1;33m)\u001b[0m\u001b[1;33m\u001b[0m\u001b[1;33m\u001b[0m\u001b[0m\n",
      "\u001b[1;31mNameError\u001b[0m: name 'time' is not defined"
     ]
    }
   ],
   "source": [
    "store_data = pd.read_csv('C:/Users/ryanm/Documents/repos/WSU/CS_7840/hw/hw2/store_data.csv')\n",
    "\n",
    "# print a snapshot of the data\n",
    "store_data.head()\n",
    "records = []\n",
    "\n",
    "start_time = time.time()\n",
    "for i in range(7500):\n",
    "    records.append([str(store_data.values[i,j]) for j in range(20)])\n",
    "    association_rules = apriori(records, min_support=0.0045, min_confidence=0.2, min_lift=3, min_length=2)\n",
    "\n",
    "stop_time = time.time()\n",
    "\n",
    "execution_time = stop_time - start_time "
   ]
  },
  {
   "cell_type": "markdown",
   "id": "d7fbd42e",
   "metadata": {},
   "source": [
    "### Part b"
   ]
  },
  {
   "cell_type": "code",
   "execution_count": 11,
   "id": "3c8150d6",
   "metadata": {},
   "outputs": [
    {
     "name": "stdout",
     "output_type": "stream",
     "text": [
      "Rule: escalope -> pasta\n",
      "Support: 0.005866666666666667\n",
      "Confidence: 0.37288135593220345\n",
      "Lift: 4.700185158809287\n",
      "=====================================\n",
      "Rule: ground beef -> spaghetti\n",
      "Support: 0.008666666666666666\n",
      "Confidence: 0.3110047846889952\n",
      "Lift: 3.164906221394116\n",
      "=====================================\n",
      "Rule: olive oil -> frozen vegetables\n",
      "Support: 0.0048\n",
      "Confidence: 0.20338983050847456\n",
      "Lift: 3.094165778526489\n",
      "=====================================\n",
      "Rule: shrimp -> mineral water\n",
      "Support: 0.0072\n",
      "Confidence: 0.3068181818181818\n",
      "Lift: 3.2183725365543547\n",
      "=====================================\n",
      "Rule: spaghetti -> olive oil\n",
      "Support: 0.005733333333333333\n",
      "Confidence: 0.20574162679425836\n",
      "Lift: 3.1299436124887174\n",
      "=====================================\n",
      "Rule: shrimp -> spaghetti\n",
      "Support: 0.006\n",
      "Confidence: 0.21531100478468898\n",
      "Lift: 3.0183785717479763\n",
      "=====================================\n",
      "Rule: spaghetti -> tomatoes\n",
      "Support: 0.006666666666666667\n",
      "Confidence: 0.23923444976076555\n",
      "Lift: 3.497579674864993\n",
      "=====================================\n",
      "Rule: grated cheese -> spaghetti\n",
      "Support: 0.005333333333333333\n",
      "Confidence: 0.3225806451612903\n",
      "Lift: 3.282706701098612\n",
      "=====================================\n",
      "Rule: herb & pepper -> ground beef\n",
      "Support: 0.006666666666666667\n",
      "Confidence: 0.390625\n",
      "Lift: 3.975152645861601\n",
      "=====================================\n",
      "Rule: herb & pepper -> ground beef\n",
      "Support: 0.016\n",
      "Confidence: 0.3234501347708895\n",
      "Lift: 3.2915549671393096\n",
      "=====================================\n"
     ]
    }
   ],
   "source": [
    "iteration = 1 \n",
    "for item in association_rules:\n",
    "    if iteration > 10:\n",
    "        break\n",
    "    pair = item[0]\n",
    "    items = [x for x in pair]\n",
    "    \n",
    "    print(\"Rule: \" + items[0] + \" -> \" + items[1])\n",
    "    print(\"Support: \" + str(item[1]))\n",
    "    print(\"Confidence: \"+str(item[2][0][2]))\n",
    "    print(\"Lift: \"+str(item[2][0][3]))\n",
    "    print(\"=====================================\")\n",
    "    \n",
    "    iteration += 1"
   ]
  },
  {
   "cell_type": "markdown",
   "id": "40ae54f7",
   "metadata": {},
   "source": [
    "### Part c"
   ]
  },
  {
   "cell_type": "code",
   "execution_count": 9,
   "id": "1d2b8d77",
   "metadata": {},
   "outputs": [
    {
     "name": "stdout",
     "output_type": "stream",
     "text": [
      "Time took to run implementation for 7500 items:  -1.9500000234984327e-05  seconds\n"
     ]
    }
   ],
   "source": [
    "print(\"Time took to run implementation for 7500 items: \", execution_time, \" seconds\")"
   ]
  },
  {
   "cell_type": "markdown",
   "id": "7e411a7b",
   "metadata": {},
   "source": [
    "### Part d "
   ]
  },
  {
   "cell_type": "markdown",
   "id": "a7aa91c7",
   "metadata": {},
   "source": [
    "This association rule algorithm is useful for categorical data.  For example, this could be useful for datasets where multiple categories occur simaltaneously, and hence could be correlated.  If the training data is associated with more than one category, then it is useful to have an algorithm that can utilitze categorization rules.  This could be especially useful for survey datasets that are more behaviorally driven.  An example dataset would be the Zoo dataset, where different animals can exhibit similar features, but yet be different."
   ]
  },
  {
   "cell_type": "markdown",
   "id": "7dcc14f3",
   "metadata": {},
   "source": [
    "## Question 4"
   ]
  },
  {
   "cell_type": "markdown",
   "id": "4a31e9f4",
   "metadata": {},
   "source": [
    "(See Orange File Attachment)"
   ]
  },
  {
   "cell_type": "markdown",
   "id": "3c0e4305-94e9-494b-ac62-17de94d0792f",
   "metadata": {},
   "source": [
    "## Question 5"
   ]
  },
  {
   "cell_type": "markdown",
   "id": "2d3c6624",
   "metadata": {},
   "source": [
    "### Part a & b"
   ]
  },
  {
   "cell_type": "code",
   "execution_count": 13,
   "id": "72817e91-96f4-4c7a-9b75-fc1d93303043",
   "metadata": {},
   "outputs": [
    {
     "name": "stdout",
     "output_type": "stream",
     "text": [
      "Features:  ['mean radius' 'mean texture' 'mean perimeter' 'mean area'\n",
      " 'mean smoothness' 'mean compactness' 'mean concavity'\n",
      " 'mean concave points' 'mean symmetry' 'mean fractal dimension'\n",
      " 'radius error' 'texture error' 'perimeter error' 'area error'\n",
      " 'smoothness error' 'compactness error' 'concavity error'\n",
      " 'concave points error' 'symmetry error' 'fractal dimension error'\n",
      " 'worst radius' 'worst texture' 'worst perimeter' 'worst area'\n",
      " 'worst smoothness' 'worst compactness' 'worst concavity'\n",
      " 'worst concave points' 'worst symmetry' 'worst fractal dimension']\n",
      "\n",
      "\n",
      "Labels:  ['malignant' 'benign']\n"
     ]
    }
   ],
   "source": [
    "from sklearn import datasets, svm, metrics\n",
    "from sklearn.model_selection import train_test_split\n",
    "\n",
    "cancer = datasets.load_breast_cancer()\n",
    "\n",
    "print(\"Features: \", cancer.feature_names)\n",
    "print(\"\\n\")\n",
    "print(\"Labels: \", cancer.target_names)"
   ]
  },
  {
   "cell_type": "markdown",
   "id": "1835db22",
   "metadata": {},
   "source": [
    "### Part c"
   ]
  },
  {
   "cell_type": "code",
   "execution_count": null,
   "id": "948dabca",
   "metadata": {},
   "outputs": [],
   "source": [
    "x_train, x_test, y_train, y_test = train_test_split(cancer.data, cancer.target, test_size=0.3, random_state=109)"
   ]
  },
  {
   "cell_type": "markdown",
   "id": "c01337eb",
   "metadata": {},
   "source": [
    "### Part d "
   ]
  },
  {
   "cell_type": "code",
   "execution_count": null,
   "id": "904b0e24-5f32-4f2f-b366-6bc8a016ba1c",
   "metadata": {},
   "outputs": [],
   "source": [
    "from sklearn import svm\n",
    "from sklearn import metrics\n",
    "\n",
    "clf = svm.SVC(kernel='linear') # Linear kernel\n",
    "clf.fit(x_train, y_train)"
   ]
  },
  {
   "cell_type": "markdown",
   "id": "7d2554a0",
   "metadata": {},
   "source": [
    "### Part e "
   ]
  },
  {
   "cell_type": "code",
   "execution_count": null,
   "id": "0fa2c56e",
   "metadata": {},
   "outputs": [],
   "source": [
    "y_pred = clf.predict(x_test)"
   ]
  },
  {
   "cell_type": "markdown",
   "id": "81115c5e",
   "metadata": {},
   "source": [
    "### Part f "
   ]
  },
  {
   "cell_type": "code",
   "execution_count": null,
   "id": "c7157a7d",
   "metadata": {},
   "outputs": [],
   "source": [
    "print(\"Accuracy: \", metrics.accuracy_score(y_test, y_pred))\n",
    "\n",
    "print(\"Precision: \", metrics.precision_score(y_test, y_pred))\n",
    "\n",
    "print(\"Recall: \", metrics.recall_score(y_test, y_pred))"
   ]
  },
  {
   "cell_type": "markdown",
   "id": "d29ec97c",
   "metadata": {},
   "source": [
    "### Part g"
   ]
  },
  {
   "cell_type": "markdown",
   "id": "5285f277",
   "metadata": {},
   "source": [
    "(See Orange Attachment)"
   ]
  },
  {
   "cell_type": "markdown",
   "id": "962668c9-2781-49c9-bec3-270e2aaea224",
   "metadata": {},
   "source": [
    "## Question 6 "
   ]
  },
  {
   "cell_type": "code",
   "execution_count": 18,
   "id": "ab79df4b-c9de-42ad-9be0-a8818e07abdf",
   "metadata": {},
   "outputs": [],
   "source": [
    "x_train, x_test, y_train, y_test = load_iris(0.2)\n",
    "\n",
    "classifier = tree.DecisionTreeClassifier()\n"
   ]
  },
  {
   "cell_type": "markdown",
   "id": "4f4831f7",
   "metadata": {},
   "source": [
    "### Part a "
   ]
  },
  {
   "cell_type": "code",
   "execution_count": 19,
   "id": "3296dbcb",
   "metadata": {},
   "outputs": [
    {
     "data": {
      "text/plain": [
       "array([[6.3, 2.3],\n",
       "       [5.1, 3.5],\n",
       "       [6.5, 3. ],\n",
       "       [6.7, 2.5],\n",
       "       [6. , 2.2],\n",
       "       [6.5, 3.2],\n",
       "       [5.1, 3.3],\n",
       "       [5.4, 3.9],\n",
       "       [5.3, 3.7],\n",
       "       [5.7, 2.8],\n",
       "       [6.8, 3. ],\n",
       "       [5.1, 3.4],\n",
       "       [4.4, 3.2],\n",
       "       [6.3, 3.4],\n",
       "       [6.2, 2.9],\n",
       "       [4.6, 3.2],\n",
       "       [5. , 3.5],\n",
       "       [6.3, 3.3],\n",
       "       [5.8, 2.7],\n",
       "       [6.4, 3.2],\n",
       "       [6. , 3.4],\n",
       "       [6.1, 3. ],\n",
       "       [5.6, 2.9],\n",
       "       [5.4, 3.4],\n",
       "       [6.3, 2.7],\n",
       "       [7.7, 2.6],\n",
       "       [4.5, 2.3],\n",
       "       [5.5, 2.5],\n",
       "       [5. , 3.6],\n",
       "       [5. , 2.3],\n",
       "       [5.5, 4.2],\n",
       "       [6.1, 2.9],\n",
       "       [4.6, 3.4],\n",
       "       [4.3, 3. ],\n",
       "       [5.2, 2.7],\n",
       "       [5.7, 2.6],\n",
       "       [4.9, 2.5],\n",
       "       [6.1, 3. ],\n",
       "       [6.3, 2.5],\n",
       "       [5.1, 3.8],\n",
       "       [6.1, 2.8],\n",
       "       [5.5, 3.5],\n",
       "       [4.7, 3.2],\n",
       "       [5.9, 3. ],\n",
       "       [6.7, 3. ],\n",
       "       [6.7, 3.1],\n",
       "       [4.9, 3.1],\n",
       "       [4.8, 3. ],\n",
       "       [6.4, 2.9],\n",
       "       [5.7, 4.4],\n",
       "       [5.1, 3.8],\n",
       "       [5. , 2. ],\n",
       "       [7.2, 3.6],\n",
       "       [6. , 2.9],\n",
       "       [4.8, 3.1],\n",
       "       [4.4, 3. ],\n",
       "       [4.9, 2.4],\n",
       "       [5. , 3.2],\n",
       "       [7.4, 2.8],\n",
       "       [5.5, 2.6],\n",
       "       [7.6, 3. ],\n",
       "       [5.7, 2.9],\n",
       "       [5. , 3.4],\n",
       "       [6.2, 2.2],\n",
       "       [5.2, 3.4],\n",
       "       [5. , 3.5],\n",
       "       [4.9, 3. ],\n",
       "       [6.2, 2.8],\n",
       "       [5.7, 3. ],\n",
       "       [6.2, 3.4],\n",
       "       [5. , 3.4],\n",
       "       [6.5, 3. ],\n",
       "       [6.3, 2.5],\n",
       "       [5.6, 2.5],\n",
       "       [5.8, 2.8],\n",
       "       [6.8, 3.2],\n",
       "       [6.4, 3.1],\n",
       "       [4.7, 3.2],\n",
       "       [4.9, 3.6],\n",
       "       [5.5, 2.4],\n",
       "       [5.6, 2.8],\n",
       "       [5.6, 2.7],\n",
       "       [4.4, 2.9],\n",
       "       [6.7, 3. ],\n",
       "       [6.3, 2.9],\n",
       "       [4.8, 3. ],\n",
       "       [6.6, 3. ],\n",
       "       [6.7, 3.1],\n",
       "       [6.4, 3.2],\n",
       "       [4.6, 3.6],\n",
       "       [5.6, 3. ],\n",
       "       [5.1, 3.5],\n",
       "       [7.1, 3. ],\n",
       "       [6.4, 2.7],\n",
       "       [7.3, 2.9],\n",
       "       [5.4, 3.4],\n",
       "       [6.5, 3. ],\n",
       "       [4.6, 3.1],\n",
       "       [5.1, 3.7],\n",
       "       [5.8, 4. ],\n",
       "       [5. , 3.3],\n",
       "       [4.8, 3.4],\n",
       "       [6.7, 3.3],\n",
       "       [6.6, 2.9],\n",
       "       [7.7, 3. ],\n",
       "       [5.4, 3.9],\n",
       "       [5.7, 2.8],\n",
       "       [7.2, 3. ],\n",
       "       [5.8, 2.7],\n",
       "       [6.9, 3.1],\n",
       "       [5.8, 2.6],\n",
       "       [5.5, 2.4],\n",
       "       [7.9, 3.8],\n",
       "       [6. , 2.7],\n",
       "       [6.8, 2.8],\n",
       "       [5.1, 2.5],\n",
       "       [6.1, 2.8],\n",
       "       [5.7, 3.8],\n",
       "       [5.5, 2.3],\n",
       "       [6.1, 2.6]])"
      ]
     },
     "execution_count": 19,
     "metadata": {},
     "output_type": "execute_result"
    }
   ],
   "source": [
    "x_first_two_train = x_train[:, 0:2]\n",
    "\n",
    "x_first_two_train"
   ]
  },
  {
   "cell_type": "code",
   "execution_count": null,
   "id": "fec25cb6",
   "metadata": {},
   "outputs": [],
   "source": [
    "clf = classifier.fit(x_first_two_train, y_train)\n",
    "clf.predict(x_test[:, 0:2])\n",
    "tree.plot_tree(clf)"
   ]
  },
  {
   "cell_type": "markdown",
   "id": "246442ce",
   "metadata": {},
   "source": [
    "### Part b "
   ]
  },
  {
   "cell_type": "code",
   "execution_count": null,
   "id": "f8daae55",
   "metadata": {},
   "outputs": [],
   "source": [
    "print(\"SVM Method Comparison for first two features ...\")\n",
    "\n",
    "clf = svm.SVC(kernel='linear') # Linear kernel\n",
    "clf.fit(x_first_two_train, y_train)\n",
    "y_pred = clf.predict(x_test[:, 0:2])\n",
    "\n",
    "print(\"Accuracy: \", metrics.accuracy_score(y_test, y_pred))\n",
    "\n",
    "print(\"Precision: \", metrics.precision_score(y_test, y_pred))\n",
    "\n",
    "print(\"Recall: \", metrics.recall_score(y_test, y_pred))"
   ]
  },
  {
   "cell_type": "markdown",
   "id": "a728aca3",
   "metadata": {},
   "source": [
    "The decision tree is binary in nature, and has to split the data in a binary nature.  The SVM method, however, can account for more curved and irregular data separation patterns, which could result in better performance.  The decision tree is more limited, especially when not used in the context of a random forest model.  The decision tree, however, is simpler to run.  Depending on the degree of overlap of the points in this dataset, which there seems to be a decent degree of, may require an intricate selection of the cost parameter in the svm model, and could need to be adjusted.\n",
    "\n"
   ]
  }
 ],
 "metadata": {
  "kernelspec": {
   "display_name": "Python 3 (ipykernel)",
   "language": "python",
   "name": "python3"
  },
  "language_info": {
   "codemirror_mode": {
    "name": "ipython",
    "version": 3
   },
   "file_extension": ".py",
   "mimetype": "text/x-python",
   "name": "python",
   "nbconvert_exporter": "python",
   "pygments_lexer": "ipython3",
   "version": "3.8.12"
  }
 },
 "nbformat": 4,
 "nbformat_minor": 5
}
