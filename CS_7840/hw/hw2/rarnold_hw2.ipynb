{
 "cells": [
  {
   "cell_type": "markdown",
   "id": "08dec92a",
   "metadata": {},
   "source": [
    "# Topic: Neural Networks !"
   ]
  },
  {
   "cell_type": "code",
   "execution_count": null,
   "id": "5cd94d48",
   "metadata": {},
   "outputs": [],
   "source": [
    "import numpy as np \n",
    "import pandas as pd \n",
    "import matplotlib.pyplot as plt\n",
    "from mpl_toolkits import mplot3d\n",
    "\n",
    "print(\"imports successful!\")"
   ]
  },
  {
   "cell_type": "code",
   "execution_count": null,
   "id": "856950ce",
   "metadata": {},
   "outputs": [],
   "source": [
    "#perceptron class as one of the building blocks for neural networks\n",
    "\n",
    "class Perceptron:\n",
    "    \n",
    "    def __init__(self, learning_rate=0.1):\n",
    "        \n",
    "        self.learning_rate = learning_rate\n",
    "        self.b = 0.0\n",
    "        self._w = None\n",
    "        self._x = np.array([])\n",
    "        self.misclassified_samples = []\n",
    "        \n",
    "    def fit(self, x: np.array, y: np.array, n_iter=10):\n",
    "        self.b = 0.0\n",
    "        self._w = np.zeros(x.shape[1])\n",
    "        self.misclassified_samples = []\n",
    "        \n",
    "        for xi, yi in zip(x, y):\n",
    "            update = self.learning_rate * (yi - self.predict(xi))\n",
    "            self._b += update\n",
    "            self._w += update\n",
    "            errors += int(update != 0.0)\n",
    "            \n",
    "        self.misclassified_samples.append(errors)\n",
    "        \n",
    "    def f(self, x: np.array) -> float:\n",
    "        return np.dot(x, self._x) + self._b\n",
    "    \n",
    "    def predict(self, x:np.array):\n",
    "        \n",
    "        return np.where(self.f(x) >= 0, 1, -1)"
   ]
  },
  {
   "cell_type": "code",
   "execution_count": null,
   "id": "5ba413a0",
   "metadata": {},
   "outputs": [],
   "source": [
    "from sklearn import datasets\n",
    "\n",
    "iris = datasets.load_iris()\n",
    "\n",
    "x = iris.data\n",
    "y = iris.target\n",
    "\n",
    "from sklearn.model_selection import train_test_split\n",
    "\n",
    "x_train, x_test, y_train, y_test = train_test_split(x, y, test_size=0.5)\n",
    "classifier = Perceptron(learning_rate=0.01)\n",
    "\n",
    "#display x_test\n",
    "print(x_train)\n",
    "\n",
    "print(y_test)\n",
    "\n",
    "fig = plt.plot\n",
    "ax = plt.axes(projection='3d')\n",
    "ax.set_title('Iris data set')\n",
    "ax.set_xlabel('Sepal length (cm)')\n",
    "ax.set_ylabel('Sepal width (cm)')\n",
    "ax.set_zlabel('Petal Length (cm)')\n",
    "\n",
    "ax.scatter(x[:50, 0], x[:50, 1], x[:50, 2], color=\"red\")\n",
    "ax.scatter(x[50:100, 0], x[50:100, 1], x[50:100, 2], color=\"green\")\n",
    "ax.scatter(x[100:150, 0], x[100:150, 1], x[100:150, 2], color=\"blue\")\n",
    "plt.show()"
   ]
  },
  {
   "cell_type": "code",
   "execution_count": null,
   "id": "50a7474e",
   "metadata": {},
   "outputs": [],
   "source": [
    "classifier.fit(x_train, y_train)\n",
    "\n",
    "predictions = classifier.predict(x_test)"
   ]
  }
 ],
 "metadata": {
  "kernelspec": {
   "display_name": "Python 3 (ipykernel)",
   "language": "python",
   "name": "python3"
  },
  "language_info": {
   "codemirror_mode": {
    "name": "ipython",
    "version": 3
   },
   "file_extension": ".py",
   "mimetype": "text/x-python",
   "name": "python",
   "nbconvert_exporter": "python",
   "pygments_lexer": "ipython3",
   "version": "3.8.12"
  }
 },
 "nbformat": 4,
 "nbformat_minor": 5
}
