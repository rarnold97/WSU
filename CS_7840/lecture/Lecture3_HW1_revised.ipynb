{
 "cells": [
  {
   "cell_type": "code",
   "execution_count": 1,
   "id": "0ee58ffe",
   "metadata": {},
   "outputs": [],
   "source": [
    "import numpy as np\n",
    "import matplotlib.pyplot as plt\n",
    "import tensorflow as tf"
   ]
  },
  {
   "cell_type": "code",
   "execution_count": 2,
   "id": "7c3518cb",
   "metadata": {},
   "outputs": [],
   "source": [
    "from sklearn.metrics import confusion_matrix\n",
    "from numpy import linalg as la"
   ]
  },
  {
   "cell_type": "code",
   "execution_count": 3,
   "id": "bb09f49a",
   "metadata": {},
   "outputs": [],
   "source": [
    "mnist = tf.keras.datasets.mnist"
   ]
  },
  {
   "cell_type": "code",
   "execution_count": 4,
   "id": "70382c4b",
   "metadata": {},
   "outputs": [],
   "source": [
    "(x_train, y_train), (x_test, y_test) = mnist.load_data()"
   ]
  },
  {
   "cell_type": "code",
   "execution_count": 5,
   "id": "d2170072",
   "metadata": {},
   "outputs": [
    {
     "data": {
      "text/plain": [
       "<matplotlib.image.AxesImage at 0x189fc8520>"
      ]
     },
     "execution_count": 5,
     "metadata": {},
     "output_type": "execute_result"
    },
    {
     "data": {
      "image/png": "[encoded data removed]",
      "text/plain": [
       "<Figure size 432x288 with 1 Axes>"
      ]
     },
     "metadata": {
      "needs_background": "light"
     },
     "output_type": "display_data"
    }
   ],
   "source": [
    "plt.imshow(x_train[0,:,:])"
   ]
  },
  {
   "cell_type": "code",
   "execution_count": 6,
   "id": "42f76946",
   "metadata": {},
   "outputs": [
    {
     "data": {
      "text/plain": [
       "(28, 28)"
      ]
     },
     "execution_count": 6,
     "metadata": {},
     "output_type": "execute_result"
    }
   ],
   "source": [
    "x_train[0,:,:].shape"
   ]
  },
  {
   "cell_type": "code",
   "execution_count": 7,
   "id": "b899b16b",
   "metadata": {},
   "outputs": [
    {
     "data": {
      "text/plain": [
       "5"
      ]
     },
     "execution_count": 7,
     "metadata": {},
     "output_type": "execute_result"
    }
   ],
   "source": [
    "y_train[0]"
   ]
  },
  {
   "cell_type": "code",
   "execution_count": 8,
   "id": "65f6dcca",
   "metadata": {},
   "outputs": [
    {
     "data": {
      "text/plain": [
       "<matplotlib.image.AxesImage at 0x10d3c0ee0>"
      ]
     },
     "execution_count": 8,
     "metadata": {},
     "output_type": "execute_result"
    },
    {
     "data": {
      "image/png": "[encoded data removed]",
      "text/plain": [
       "<Figure size 432x288 with 1 Axes>"
      ]
     },
     "metadata": {
      "needs_background": "light"
     },
     "output_type": "display_data"
    }
   ],
   "source": [
    "plt.imshow(x_train[1,:,:])"
   ]
  },
  {
   "cell_type": "code",
   "execution_count": 9,
   "id": "e9726207",
   "metadata": {},
   "outputs": [
    {
     "data": {
      "text/plain": [
       "0"
      ]
     },
     "execution_count": 9,
     "metadata": {},
     "output_type": "execute_result"
    }
   ],
   "source": [
    "y_train[1]"
   ]
  },
  {
   "cell_type": "code",
   "execution_count": 10,
   "id": "0e96183e",
   "metadata": {},
   "outputs": [
    {
     "data": {
      "text/plain": [
       "<matplotlib.image.AxesImage at 0x15cc654f0>"
      ]
     },
     "execution_count": 10,
     "metadata": {},
     "output_type": "execute_result"
    },
    {
     "data": {
      "image/png": "[encoded data removed]",
      "text/plain": [
       "<Figure size 432x288 with 1 Axes>"
      ]
     },
     "metadata": {
      "needs_background": "light"
     },
     "output_type": "display_data"
    }
   ],
   "source": [
    "plt.imshow(x_test[0,:,:])"
   ]
  },
  {
   "cell_type": "code",
   "execution_count": 11,
   "id": "185b6381",
   "metadata": {},
   "outputs": [
    {
     "data": {
      "text/plain": [
       "7"
      ]
     },
     "execution_count": 11,
     "metadata": {},
     "output_type": "execute_result"
    }
   ],
   "source": [
    "y_test[0]"
   ]
  },
  {
   "cell_type": "code",
   "execution_count": 12,
   "id": "52ec068f",
   "metadata": {},
   "outputs": [
    {
     "data": {
      "text/plain": [
       "<matplotlib.image.AxesImage at 0x15cd21970>"
      ]
     },
     "execution_count": 12,
     "metadata": {},
     "output_type": "execute_result"
    },
    {
     "data": {
      "image/png": "[encoded data removed]",
      "text/plain": [
       "<Figure size 432x288 with 1 Axes>"
      ]
     },
     "metadata": {
      "needs_background": "light"
     },
     "output_type": "display_data"
    }
   ],
   "source": [
    "plt.imshow(x_test[2500,:,:])"
   ]
  },
  {
   "cell_type": "code",
   "execution_count": 13,
   "id": "4c733762",
   "metadata": {},
   "outputs": [
    {
     "data": {
      "text/plain": [
       "2"
      ]
     },
     "execution_count": 13,
     "metadata": {},
     "output_type": "execute_result"
    }
   ],
   "source": [
    "y_test[2500]"
   ]
  },
  {
   "cell_type": "code",
   "execution_count": 14,
   "id": "50ce1ccd",
   "metadata": {},
   "outputs": [
    {
     "data": {
      "text/plain": [
       "49.0"
      ]
     },
     "execution_count": 14,
     "metadata": {},
     "output_type": "execute_result"
    }
   ],
   "source": [
    "784/16"
   ]
  },
  {
   "cell_type": "code",
   "execution_count": 15,
   "id": "17068183",
   "metadata": {},
   "outputs": [
    {
     "name": "stderr",
     "output_type": "stream",
     "text": [
      "2022-01-18 18:23:14.951817: I tensorflow/core/platform/cpu_feature_guard.cc:142] This TensorFlow binary is optimized with oneAPI Deep Neural Network Library (oneDNN) to use the following CPU instructions in performance-critical operations:  SSE4.1 SSE4.2 AVX AVX2 FMA\n",
      "To enable them in other operations, rebuild TensorFlow with the appropriate compiler flags.\n"
     ]
    }
   ],
   "source": [
    "model = tf.keras.models.Sequential([tf.keras.layers.Flatten(),\n",
    "                                    tf.keras.layers.Dense(784,activation=tf.nn.tanh),\n",
    "                                    tf.keras.layers.Dropout(0.2),\n",
    "                                    tf.keras.layers.Dense(10,activation=tf.nn.softmax)])"
   ]
  },
  {
   "cell_type": "code",
   "execution_count": 16,
   "id": "9a3e8451",
   "metadata": {},
   "outputs": [],
   "source": [
    "model.compile(optimizer=\"SGD\", loss = 'mean_squared_error',metrics=['accuracy'])"
   ]
  },
  {
   "cell_type": "code",
   "execution_count": 17,
   "id": "655d3616",
   "metadata": {},
   "outputs": [
    {
     "name": "stderr",
     "output_type": "stream",
     "text": [
      "2022-01-18 18:23:15.397065: I tensorflow/compiler/mlir/mlir_graph_optimization_pass.cc:185] None of the MLIR Optimization Passes are enabled (registered 2)\n"
     ]
    },
    {
     "name": "stdout",
     "output_type": "stream",
     "text": [
      "1875/1875 [==============================] - 3s 2ms/step - loss: 27.3179 - accuracy: 0.1008\n"
     ]
    },
    {
     "data": {
      "text/plain": [
       "<keras.callbacks.History at 0x18be07640>"
      ]
     },
     "execution_count": 17,
     "metadata": {},
     "output_type": "execute_result"
    }
   ],
   "source": [
    "model.fit(x_train, y_train, epochs=1)"
   ]
  },
  {
   "cell_type": "code",
   "execution_count": 18,
   "id": "0c7a7b0c",
   "metadata": {},
   "outputs": [],
   "source": [
    "test_predictions = model.predict(x_test)"
   ]
  },
  {
   "cell_type": "code",
   "execution_count": 19,
   "id": "c684d244",
   "metadata": {},
   "outputs": [],
   "source": [
    "confusion = confusion_matrix(y_test, np.argmax(test_predictions,axis=1))"
   ]
  },
  {
   "cell_type": "code",
   "execution_count": 20,
   "id": "e6eae242",
   "metadata": {},
   "outputs": [
    {
     "data": {
      "text/plain": [
       "array([[102,  59,  91, 120, 133, 107, 103,  71, 103,  91],\n",
       "       [112, 151, 162,  86,  90, 113, 100, 112,  76, 133],\n",
       "       [146, 129,  49, 114, 108,  63,  79,  75, 120, 149],\n",
       "       [103, 147, 104, 114, 102,  99, 108,  82,  86,  65],\n",
       "       [131, 108, 137,  75,  82,  64, 128,  93,  97,  67],\n",
       "       [ 78, 118,  61,  87,  97,  70,  81,  97,  89, 114],\n",
       "       [130, 111,  56,  98,  79,  74,  80,  94, 110, 126],\n",
       "       [100, 116,  93,  87,  92, 106, 102, 119,  95, 118],\n",
       "       [118,  92,  92,  68,  83,  60, 103, 138, 112, 108],\n",
       "       [103, 127,  67, 136, 115,  76,  98,  90,  92, 105]])"
      ]
     },
     "execution_count": 20,
     "metadata": {},
     "output_type": "execute_result"
    }
   ],
   "source": [
    "confusion"
   ]
  },
  {
   "cell_type": "code",
   "execution_count": 21,
   "id": "f228a90d",
   "metadata": {},
   "outputs": [
    {
     "name": "stdout",
     "output_type": "stream",
     "text": [
      "Epoch 1/10\n",
      "1875/1875 [==============================] - 3s 2ms/step - loss: 27.3150 - accuracy: 0.0994\n",
      "Epoch 2/10\n",
      "1875/1875 [==============================] - 3s 2ms/step - loss: 27.3138 - accuracy: 0.0987\n",
      "Epoch 3/10\n",
      "1875/1875 [==============================] - 3s 2ms/step - loss: 27.3131 - accuracy: 0.0970\n",
      "Epoch 4/10\n",
      "1875/1875 [==============================] - 3s 2ms/step - loss: 27.3125 - accuracy: 0.0992\n",
      "Epoch 5/10\n",
      "1875/1875 [==============================] - 3s 2ms/step - loss: 27.3119 - accuracy: 0.1006\n",
      "Epoch 6/10\n",
      "1875/1875 [==============================] - 3s 2ms/step - loss: 27.3115 - accuracy: 0.0991\n",
      "Epoch 7/10\n",
      "1875/1875 [==============================] - 4s 2ms/step - loss: 27.3111 - accuracy: 0.1001\n",
      "Epoch 8/10\n",
      "1875/1875 [==============================] - 4s 2ms/step - loss: 27.3107 - accuracy: 0.0992\n",
      "Epoch 9/10\n",
      "1875/1875 [==============================] - 4s 2ms/step - loss: 27.3104 - accuracy: 0.1017\n",
      "Epoch 10/10\n",
      "1875/1875 [==============================] - 4s 2ms/step - loss: 27.3101 - accuracy: 0.1005\n"
     ]
    },
    {
     "data": {
      "text/plain": [
       "<keras.callbacks.History at 0x18a03e040>"
      ]
     },
     "execution_count": 21,
     "metadata": {},
     "output_type": "execute_result"
    }
   ],
   "source": [
    "model.compile(optimizer=\"SGD\", loss = 'mean_squared_error',metrics=['accuracy'])\n",
    "model.fit(x_train, y_train, epochs=10)"
   ]
  },
  {
   "cell_type": "code",
   "execution_count": 22,
   "id": "37878cf0",
   "metadata": {},
   "outputs": [
    {
     "data": {
      "text/plain": [
       "array([[ 63,  88,  93, 109, 106, 125, 108,  78,  95, 115],\n",
       "       [ 86, 113, 104,  87, 128, 133, 137,  96, 110, 141],\n",
       "       [108,  89,  83, 141, 102,  95, 108,  83, 102, 121],\n",
       "       [ 88, 129,  90, 109,  74, 109, 110,  78,  98, 125],\n",
       "       [118,  80,  80,  93, 113, 116, 110,  86,  83, 103],\n",
       "       [ 87,  77,  69,  81,  92,  90,  93,  68, 106, 129],\n",
       "       [ 96,  97,  71, 114,  75,  96, 111, 100, 102,  96],\n",
       "       [ 98, 100,  91, 117,  84,  93, 108, 105, 103, 129],\n",
       "       [ 73,  78,  88, 117,  78,  72, 126, 118,  96, 128],\n",
       "       [ 92,  95, 101,  99, 115, 130,  88,  77, 106, 106]])"
      ]
     },
     "execution_count": 22,
     "metadata": {},
     "output_type": "execute_result"
    }
   ],
   "source": [
    "test_predictions = model.predict(x_test)\n",
    "confusion = confusion_matrix(y_test, np.argmax(test_predictions,axis=1))\n",
    "confusion"
   ]
  },
  {
   "cell_type": "code",
   "execution_count": 23,
   "id": "b0c86d4d",
   "metadata": {},
   "outputs": [],
   "source": [
    "model.compile(optimizer=\"SGD\", loss = 'sparse_categorical_crossentropy',metrics=['accuracy'])"
   ]
  },
  {
   "cell_type": "code",
   "execution_count": 24,
   "id": "9700872b",
   "metadata": {},
   "outputs": [
    {
     "name": "stdout",
     "output_type": "stream",
     "text": [
      "1875/1875 [==============================] - 4s 2ms/step - loss: 0.5016 - accuracy: 0.8470\n"
     ]
    },
    {
     "data": {
      "text/plain": [
       "<keras.callbacks.History at 0x18c3bb5b0>"
      ]
     },
     "execution_count": 24,
     "metadata": {},
     "output_type": "execute_result"
    }
   ],
   "source": [
    "model.fit(x_train, y_train, epochs=1)"
   ]
  },
  {
   "cell_type": "code",
   "execution_count": 25,
   "id": "484a19b5",
   "metadata": {},
   "outputs": [
    {
     "data": {
      "text/plain": [
       "array([[ 958,    0,    2,    2,    0,    5,    5,    1,    7,    0],\n",
       "       [   0, 1111,    3,    3,    0,    1,    5,    1,   11,    0],\n",
       "       [  10,    0,  918,   19,   18,    4,   14,   14,   29,    6],\n",
       "       [   3,    1,   24,  890,    1,   40,    1,   10,   30,   10],\n",
       "       [   3,    2,    5,    0,  887,    1,   17,    2,    8,   57],\n",
       "       [   5,    1,    7,   39,   10,  781,   12,    4,   24,    9],\n",
       "       [  17,    2,    8,    2,   13,   19,  891,    0,    6,    0],\n",
       "       [   4,   13,   30,    4,   13,    0,    0,  909,    9,   46],\n",
       "       [   5,    4,   11,   20,   13,   26,    9,   10,  861,   15],\n",
       "       [   6,    8,    2,    9,   60,   14,    1,   15,   13,  881]])"
      ]
     },
     "execution_count": 25,
     "metadata": {},
     "output_type": "execute_result"
    }
   ],
   "source": [
    "test_predictions = model.predict(x_test)\n",
    "confusion = confusion_matrix(y_test, np.argmax(test_predictions,axis=1))\n",
    "confusion"
   ]
  },
  {
   "cell_type": "markdown",
   "id": "4349b94a",
   "metadata": {},
   "source": [
    "## Homework Question 2"
   ]
  },
  {
   "cell_type": "code",
   "execution_count": 26,
   "id": "2ef2f209",
   "metadata": {},
   "outputs": [],
   "source": [
    "x = np.random.randint(-5,5,(10,2))"
   ]
  },
  {
   "cell_type": "code",
   "execution_count": 27,
   "id": "05db08a7",
   "metadata": {},
   "outputs": [
    {
     "data": {
      "text/plain": [
       "array([[ 1, -2],\n",
       "       [-4,  0],\n",
       "       [ 4,  2],\n",
       "       [-2,  1],\n",
       "       [-4,  3],\n",
       "       [ 4, -5],\n",
       "       [ 2, -1],\n",
       "       [-1,  2],\n",
       "       [-2,  0],\n",
       "       [ 2,  1]])"
      ]
     },
     "execution_count": 27,
     "metadata": {},
     "output_type": "execute_result"
    }
   ],
   "source": [
    "x"
   ]
  },
  {
   "cell_type": "code",
   "execution_count": 28,
   "id": "9a9a86c2",
   "metadata": {},
   "outputs": [],
   "source": [
    "c1 = x[0,:]\n",
    "c2 = x[1,:]\n",
    "c3 = x[2,:]"
   ]
  },
  {
   "cell_type": "code",
   "execution_count": 29,
   "id": "08ce8e69",
   "metadata": {},
   "outputs": [],
   "source": [
    "dist1 = c1 - x\n",
    "dist2 = c2 - x\n",
    "dist3 = c3 - x"
   ]
  },
  {
   "cell_type": "code",
   "execution_count": 30,
   "id": "16b620b5",
   "metadata": {},
   "outputs": [],
   "source": [
    "k1 = la.norm(dist1, axis=1)\n",
    "k2 = la.norm(dist2, axis = 1)\n",
    "k3 = la.norm(dist3, axis=1)"
   ]
  },
  {
   "cell_type": "code",
   "execution_count": 31,
   "id": "0d7937f2",
   "metadata": {},
   "outputs": [
    {
     "data": {
      "text/plain": [
       "array([0.        , 5.38516481, 5.        , 4.24264069, 7.07106781,\n",
       "       4.24264069, 1.41421356, 4.47213595, 3.60555128, 3.16227766])"
      ]
     },
     "execution_count": 31,
     "metadata": {},
     "output_type": "execute_result"
    }
   ],
   "source": [
    "k1"
   ]
  },
  {
   "cell_type": "code",
   "execution_count": 32,
   "id": "b25ad25c",
   "metadata": {},
   "outputs": [
    {
     "data": {
      "text/plain": [
       "array([5.38516481, 0.        , 8.24621125, 2.23606798, 3.        ,\n",
       "       9.43398113, 6.08276253, 3.60555128, 2.        , 6.08276253])"
      ]
     },
     "execution_count": 32,
     "metadata": {},
     "output_type": "execute_result"
    }
   ],
   "source": [
    "k2"
   ]
  },
  {
   "cell_type": "code",
   "execution_count": 33,
   "id": "97965ad8",
   "metadata": {},
   "outputs": [
    {
     "data": {
      "text/plain": [
       "array([5.        , 8.24621125, 0.        , 6.08276253, 8.06225775,\n",
       "       7.        , 3.60555128, 5.        , 6.32455532, 2.23606798])"
      ]
     },
     "execution_count": 33,
     "metadata": {},
     "output_type": "execute_result"
    }
   ],
   "source": [
    "k3"
   ]
  },
  {
   "cell_type": "code",
   "execution_count": 34,
   "id": "d1d54f5b",
   "metadata": {},
   "outputs": [],
   "source": [
    "clusters = np.argmin([k1,k2,k3], axis=0)"
   ]
  },
  {
   "cell_type": "code",
   "execution_count": 35,
   "id": "76df4134",
   "metadata": {},
   "outputs": [
    {
     "data": {
      "text/plain": [
       "array([0, 1, 2, 1, 1, 0, 0, 1, 1, 2])"
      ]
     },
     "execution_count": 35,
     "metadata": {},
     "output_type": "execute_result"
    }
   ],
   "source": [
    "clusters"
   ]
  },
  {
   "cell_type": "code",
   "execution_count": 36,
   "id": "5b952f2a",
   "metadata": {},
   "outputs": [],
   "source": [
    "C1 = x[clusters==0]\n",
    "C2 = x[clusters==1]\n",
    "C3 = x[clusters==2]"
   ]
  },
  {
   "cell_type": "code",
   "execution_count": 54,
   "id": "4abb9c92",
   "metadata": {},
   "outputs": [
    {
     "data": {
      "text/plain": [
       "array([[ 1, -2],\n",
       "       [-4,  0],\n",
       "       [ 4,  2]])"
      ]
     },
     "execution_count": 54,
     "metadata": {},
     "output_type": "execute_result"
    }
   ],
   "source": [
    "centroids = np.array([c1, c2, c3])\n",
    "centroids"
   ]
  },
  {
   "cell_type": "code",
   "execution_count": 60,
   "id": "4bab221f",
   "metadata": {},
   "outputs": [
    {
     "data": {
      "image/png": "[encoded data removed]",
      "text/plain": [
       "<Figure size 432x288 with 1 Axes>"
      ]
     },
     "metadata": {
      "needs_background": "light"
     },
     "output_type": "display_data"
    }
   ],
   "source": [
    "plt.plot(C1[:,0],C1[:,1],'r.', label='cluster 1')\n",
    "plt.plot(C2[:,0],C2[:,1],'b.', label='cluster 2')\n",
    "plt.plot(C3[:,0],C3[:,1],'g.', label='cluster 3')\n",
    "plt.plot(centroids[:,0], centroids[:,1], 'yo', markersize=8, label='Centroids')\n",
    "plt.legend(loc='best')\n",
    "plt.show()"
   ]
  },
  {
   "cell_type": "markdown",
   "id": "aef52fe1",
   "metadata": {},
   "source": [
    "## Homework Question 3"
   ]
  },
  {
   "cell_type": "code",
   "execution_count": 43,
   "id": "9ed04ec4",
   "metadata": {},
   "outputs": [],
   "source": [
    "x11 = np.random.standard_normal((200,1))*1.2+np.ones((200,1))-2\n",
    "x12 = np.random.standard_normal((200,1))*0.8+np.ones((200,1))-2\n",
    "x1= np.concatenate((x11,x12),axis=1)"
   ]
  },
  {
   "cell_type": "code",
   "execution_count": 62,
   "id": "b88ae828",
   "metadata": {},
   "outputs": [
    {
     "data": {
      "text/plain": [
       "[<matplotlib.lines.Line2D at 0x18e446460>]"
      ]
     },
     "execution_count": 62,
     "metadata": {},
     "output_type": "execute_result"
    },
    {
     "data": {
      "image/png": "[encoded data removed]",
      "text/plain": [
       "<Figure size 432x288 with 1 Axes>"
      ]
     },
     "metadata": {
      "needs_background": "light"
     },
     "output_type": "display_data"
    }
   ],
   "source": [
    "plt.plot(x1[:,0], x1[:,1], '*')"
   ]
  },
  {
   "cell_type": "code",
   "execution_count": 45,
   "id": "31c33d9a",
   "metadata": {},
   "outputs": [],
   "source": [
    "x21 = np.random.standard_normal((200,1))*0.9+np.ones((200,1))\n",
    "x22 = np.random.standard_normal((200,1))*0.7+np.ones((200,1))\n",
    "x2 = np.concatenate((x21,x22),axis=1)"
   ]
  },
  {
   "cell_type": "code",
   "execution_count": 63,
   "id": "96b8cff7",
   "metadata": {},
   "outputs": [
    {
     "data": {
      "text/plain": [
       "[<matplotlib.lines.Line2D at 0x18e289400>]"
      ]
     },
     "execution_count": 63,
     "metadata": {},
     "output_type": "execute_result"
    },
    {
     "data": {
      "image/png": "[encoded data removed]",
      "text/plain": [
       "<Figure size 432x288 with 1 Axes>"
      ]
     },
     "metadata": {
      "needs_background": "light"
     },
     "output_type": "display_data"
    }
   ],
   "source": [
    "plt.plot(x2[:,0], x2[:,1], '*')"
   ]
  },
  {
   "cell_type": "code",
   "execution_count": 47,
   "id": "a2a4b75e",
   "metadata": {},
   "outputs": [],
   "source": [
    "x31 = np.random.standard_normal((200,1))*0.8+np.ones((200,1))+3\n",
    "x32 = np.random.standard_normal((200,1))*0.5+np.ones((200,1))+4\n",
    "x3 = np.concatenate((x31,x32),axis=1)"
   ]
  },
  {
   "cell_type": "code",
   "execution_count": 64,
   "id": "5cc5b9a9",
   "metadata": {},
   "outputs": [
    {
     "data": {
      "text/plain": [
       "[<matplotlib.lines.Line2D at 0x18d09da90>]"
      ]
     },
     "execution_count": 64,
     "metadata": {},
     "output_type": "execute_result"
    },
    {
     "data": {
      "image/png": "[encoded data removed]",
      "text/plain": [
       "<Figure size 432x288 with 1 Axes>"
      ]
     },
     "metadata": {
      "needs_background": "light"
     },
     "output_type": "display_data"
    }
   ],
   "source": [
    "plt.plot(x3[:,0], x3[:,1], '*')"
   ]
  },
  {
   "cell_type": "code",
   "execution_count": 49,
   "id": "275e26bd",
   "metadata": {},
   "outputs": [
    {
     "data": {
      "text/plain": [
       "[<matplotlib.lines.Line2D at 0x18d049eb0>]"
      ]
     },
     "execution_count": 49,
     "metadata": {},
     "output_type": "execute_result"
    },
    {
     "data": {
      "image/png": "[encoded data removed]",
      "text/plain": [
       "<Figure size 432x288 with 1 Axes>"
      ]
     },
     "metadata": {
      "needs_background": "light"
     },
     "output_type": "display_data"
    }
   ],
   "source": [
    "X = np.concatenate((x1,x2,x3),axis=0)\n",
    "plt.plot(X[0:200,0],X[0:200,1],'r*')\n",
    "plt.plot(X[200:400,0], X[200:400,1],'g*')\n",
    "plt.plot(X[400:600,0],X[400:600,1],'b*')"
   ]
  },
  {
   "cell_type": "code",
   "execution_count": 68,
   "id": "9c15045c",
   "metadata": {},
   "outputs": [],
   "source": [
    "import scipy\n",
    "from scipy.spatial.distance import cdist\n",
    "x = X\n",
    "k = 3\n",
    "no_of_iterations = 5\n",
    "idx = np.sort(np.random.choice(len(x),k,replace=False))"
   ]
  },
  {
   "cell_type": "code",
   "execution_count": 69,
   "id": "ffa506ce",
   "metadata": {},
   "outputs": [],
   "source": []
  },
  {
   "cell_type": "code",
   "execution_count": null,
   "id": "edf194a0",
   "metadata": {},
   "outputs": [],
   "source": []
  }
 ],
 "metadata": {
  "kernelspec": {
   "display_name": "Python 3 (ipykernel)",
   "language": "python",
   "name": "python3"
  },
  "language_info": {
   "codemirror_mode": {
    "name": "ipython",
    "version": 3
   },
   "file_extension": ".py",
   "mimetype": "text/x-python",
   "name": "python",
   "nbconvert_exporter": "python",
   "pygments_lexer": "ipython3",
   "version": "3.8.12"
  }
 },
 "nbformat": 4,
 "nbformat_minor": 5
}
